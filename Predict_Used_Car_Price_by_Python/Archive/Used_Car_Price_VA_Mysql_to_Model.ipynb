{
 "cells": [
  {
   "cell_type": "code",
   "execution_count": 432,
   "id": "143a3bf9-7643-4a24-898d-e33b5e3eed68",
   "metadata": {},
   "outputs": [],
   "source": [
    "import pandas as pd\n",
    "import numpy as np\n",
    "import pymysql, pickle\n",
    "import matplotlib.pyplot as plt\n",
    "from collections import Counter\n",
    "\n",
    "from xgboost import XGBRegressor\n",
    "from sklearn.model_selection import train_test_split\n",
    "from sklearn.model_selection import KFold\n",
    "from sklearn.model_selection import cross_val_score\n",
    "from warnings import filterwarnings\n",
    "\n",
    "filterwarnings(\"ignore\", category=UserWarning)"
   ]
  },
  {
   "cell_type": "code",
   "execution_count": 396,
   "id": "54e4db81-5475-4941-a5c2-ddb0e104b842",
   "metadata": {},
   "outputs": [],
   "source": [
    "def load_data():\n",
    "\n",
    "    # Read Password\n",
    "    pw = pickle.load(open('pw.pkl', 'rb'))\n",
    "    host_ = pickle.load(open('host.pkl', 'rb')) \n",
    "    \n",
    "    # AWS MySql Connection Info\n",
    "    db = pymysql.connect(\n",
    "        host = host_,\n",
    "        user = \"root\",\n",
    "        password = pw,\n",
    "        db = \"usedcar\",\n",
    "        charset='utf8',\n",
    "    )\n",
    "\n",
    "    SQL_QUERY = \"\"\"\n",
    "        SELECT *\n",
    "        FROM usedcar;\n",
    "    \"\"\"\n",
    "\n",
    "    train = pd.read_sql(SQL_QUERY, db)\n",
    "    pickle.dump(train, open(\"train.pkl\", \"wb\"))\n",
    "\n",
    "    return train"
   ]
  },
  {
   "cell_type": "code",
   "execution_count": 397,
   "id": "c4e7e8fd-54fe-4196-8260-5eeba7df5bb7",
   "metadata": {},
   "outputs": [
    {
     "data": {
      "text/html": [
       "<div>\n",
       "<style scoped>\n",
       "    .dataframe tbody tr th:only-of-type {\n",
       "        vertical-align: middle;\n",
       "    }\n",
       "\n",
       "    .dataframe tbody tr th {\n",
       "        vertical-align: top;\n",
       "    }\n",
       "\n",
       "    .dataframe thead th {\n",
       "        text-align: right;\n",
       "    }\n",
       "</style>\n",
       "<table border=\"1\" class=\"dataframe\">\n",
       "  <thead>\n",
       "    <tr style=\"text-align: right;\">\n",
       "      <th></th>\n",
       "      <th>index</th>\n",
       "      <th>ID</th>\n",
       "      <th>Year</th>\n",
       "      <th>Brand</th>\n",
       "      <th>Model</th>\n",
       "      <th>Mileage</th>\n",
       "      <th>Bodystyle</th>\n",
       "      <th>Dealer</th>\n",
       "      <th>Exterior Color</th>\n",
       "      <th>Interior Color</th>\n",
       "      <th>Drivetrain</th>\n",
       "      <th>MPG</th>\n",
       "      <th>Fuel Type</th>\n",
       "      <th>Transmission</th>\n",
       "      <th>Engine</th>\n",
       "      <th>Price</th>\n",
       "    </tr>\n",
       "  </thead>\n",
       "  <tbody>\n",
       "    <tr>\n",
       "      <th>0</th>\n",
       "      <td>0</td>\n",
       "      <td>2023kianiro_plug_in_hybrid10318ourismanfairfaxkia</td>\n",
       "      <td>2023</td>\n",
       "      <td>kia</td>\n",
       "      <td>niro_plug_in_hybrid</td>\n",
       "      <td>10318</td>\n",
       "      <td>suv</td>\n",
       "      <td>ourisman fairfax kia</td>\n",
       "      <td>snow white pearl</td>\n",
       "      <td>charcoal</td>\n",
       "      <td>front-wheel</td>\n",
       "      <td>–</td>\n",
       "      <td>hybrid</td>\n",
       "      <td>6-speed automatic with auto-shift</td>\n",
       "      <td>1.6l i4 16v gdi dohc hybrid</td>\n",
       "      <td>32850</td>\n",
       "    </tr>\n",
       "    <tr>\n",
       "      <th>1</th>\n",
       "      <td>1</td>\n",
       "      <td>2018porschepanamera39696tedbrittford-wewillbuy...</td>\n",
       "      <td>2018</td>\n",
       "      <td>porsche</td>\n",
       "      <td>panamera</td>\n",
       "      <td>39696</td>\n",
       "      <td>hatchback</td>\n",
       "      <td>ted britt ford - we will buy your car</td>\n",
       "      <td>night blue metallic</td>\n",
       "      <td>luxor beige</td>\n",
       "      <td>all-wheel</td>\n",
       "      <td>21–27</td>\n",
       "      <td>gasoline</td>\n",
       "      <td>8-speed automatic with auto-shift</td>\n",
       "      <td>3.0l v6 24v gdi dohc turbo</td>\n",
       "      <td>52483</td>\n",
       "    </tr>\n",
       "    <tr>\n",
       "      <th>2</th>\n",
       "      <td>2</td>\n",
       "      <td>2020fordf_15092951tedbrittford-wewillbuyyourcar</td>\n",
       "      <td>2020</td>\n",
       "      <td>ford</td>\n",
       "      <td>f_150</td>\n",
       "      <td>92951</td>\n",
       "      <td>pickup_truck</td>\n",
       "      <td>ted britt ford - we will buy your car</td>\n",
       "      <td>ford performance blue metallic</td>\n",
       "      <td>blue</td>\n",
       "      <td>four-wheel</td>\n",
       "      <td>15–18</td>\n",
       "      <td>gasoline</td>\n",
       "      <td>10-speed automatic</td>\n",
       "      <td>3.5l v6 24v pdi dohc twin turbo</td>\n",
       "      <td>46142</td>\n",
       "    </tr>\n",
       "    <tr>\n",
       "      <th>3</th>\n",
       "      <td>3</td>\n",
       "      <td>2020acuratlx21651saffordbrownhyundaifairfax</td>\n",
       "      <td>2020</td>\n",
       "      <td>acura</td>\n",
       "      <td>tlx</td>\n",
       "      <td>21651</td>\n",
       "      <td>sedan</td>\n",
       "      <td>safford brown hyundai fairfax</td>\n",
       "      <td>red</td>\n",
       "      <td>red</td>\n",
       "      <td>front-wheel</td>\n",
       "      <td>23–32</td>\n",
       "      <td>gasoline</td>\n",
       "      <td>8-speed dual-clutch</td>\n",
       "      <td>2.4l i-4 gasoline direct injection, dohc, i-vt...</td>\n",
       "      <td>27495</td>\n",
       "    </tr>\n",
       "    <tr>\n",
       "      <th>4</th>\n",
       "      <td>4</td>\n",
       "      <td>2023genesisgv7025105saffordbrownhyundaifairfax</td>\n",
       "      <td>2023</td>\n",
       "      <td>genesis</td>\n",
       "      <td>gv70</td>\n",
       "      <td>25105</td>\n",
       "      <td>suv</td>\n",
       "      <td>safford brown hyundai fairfax</td>\n",
       "      <td>himalayan gray</td>\n",
       "      <td>obsidian black</td>\n",
       "      <td>all-wheel</td>\n",
       "      <td>22–28</td>\n",
       "      <td>gasoline</td>\n",
       "      <td>8-speed automatic with shiftronic</td>\n",
       "      <td>2.5l i-4 port/direct injection, dohc, variable...</td>\n",
       "      <td>39795</td>\n",
       "    </tr>\n",
       "  </tbody>\n",
       "</table>\n",
       "</div>"
      ],
      "text/plain": [
       "   index                                                 ID  Year    Brand  \\\n",
       "0      0  2023kianiro_plug_in_hybrid10318ourismanfairfaxkia  2023      kia   \n",
       "1      1  2018porschepanamera39696tedbrittford-wewillbuy...  2018  porsche   \n",
       "2      2    2020fordf_15092951tedbrittford-wewillbuyyourcar  2020     ford   \n",
       "3      3        2020acuratlx21651saffordbrownhyundaifairfax  2020    acura   \n",
       "4      4     2023genesisgv7025105saffordbrownhyundaifairfax  2023  genesis   \n",
       "\n",
       "                 Model  Mileage     Bodystyle  \\\n",
       "0  niro_plug_in_hybrid    10318           suv   \n",
       "1             panamera    39696     hatchback   \n",
       "2                f_150    92951  pickup_truck   \n",
       "3                  tlx    21651         sedan   \n",
       "4                 gv70    25105           suv   \n",
       "\n",
       "                                  Dealer                  Exterior Color  \\\n",
       "0                   ourisman fairfax kia                snow white pearl   \n",
       "1  ted britt ford - we will buy your car             night blue metallic   \n",
       "2  ted britt ford - we will buy your car  ford performance blue metallic   \n",
       "3          safford brown hyundai fairfax                             red   \n",
       "4          safford brown hyundai fairfax                  himalayan gray   \n",
       "\n",
       "   Interior Color   Drivetrain    MPG Fuel Type  \\\n",
       "0        charcoal  front-wheel      –    hybrid   \n",
       "1     luxor beige    all-wheel  21–27  gasoline   \n",
       "2            blue   four-wheel  15–18  gasoline   \n",
       "3             red  front-wheel  23–32  gasoline   \n",
       "4  obsidian black    all-wheel  22–28  gasoline   \n",
       "\n",
       "                        Transmission  \\\n",
       "0  6-speed automatic with auto-shift   \n",
       "1  8-speed automatic with auto-shift   \n",
       "2                 10-speed automatic   \n",
       "3                8-speed dual-clutch   \n",
       "4  8-speed automatic with shiftronic   \n",
       "\n",
       "                                              Engine  Price  \n",
       "0                        1.6l i4 16v gdi dohc hybrid  32850  \n",
       "1                         3.0l v6 24v gdi dohc turbo  52483  \n",
       "2                    3.5l v6 24v pdi dohc twin turbo  46142  \n",
       "3  2.4l i-4 gasoline direct injection, dohc, i-vt...  27495  \n",
       "4  2.5l i-4 port/direct injection, dohc, variable...  39795  "
      ]
     },
     "execution_count": 397,
     "metadata": {},
     "output_type": "execute_result"
    }
   ],
   "source": [
    "train = load_data()\n",
    "train.head()"
   ]
  },
  {
   "cell_type": "code",
   "execution_count": 399,
   "id": "66317412-e986-42b0-90a3-e394af068b91",
   "metadata": {},
   "outputs": [
    {
     "name": "stdout",
     "output_type": "stream",
     "text": [
      "<class 'pandas.core.frame.DataFrame'>\n",
      "RangeIndex: 37356 entries, 0 to 37355\n",
      "Data columns (total 16 columns):\n",
      " #   Column          Non-Null Count  Dtype \n",
      "---  ------          --------------  ----- \n",
      " 0   index           37356 non-null  int64 \n",
      " 1   ID              37356 non-null  object\n",
      " 2   Year            37356 non-null  int64 \n",
      " 3   Brand           37356 non-null  object\n",
      " 4   Model           37356 non-null  object\n",
      " 5   Mileage         37356 non-null  int64 \n",
      " 6   Bodystyle       37356 non-null  object\n",
      " 7   Dealer          37356 non-null  object\n",
      " 8   Exterior Color  37356 non-null  object\n",
      " 9   Interior Color  37356 non-null  object\n",
      " 10  Drivetrain      37356 non-null  object\n",
      " 11  MPG             36559 non-null  object\n",
      " 12  Fuel Type       36559 non-null  object\n",
      " 13  Transmission    36559 non-null  object\n",
      " 14  Engine          36559 non-null  object\n",
      " 15  Price           37356 non-null  int64 \n",
      "dtypes: int64(4), object(12)\n",
      "memory usage: 4.6+ MB\n"
     ]
    }
   ],
   "source": [
    "train.info()"
   ]
  },
  {
   "cell_type": "code",
   "execution_count": 400,
   "id": "1b3a7feb-8531-48c0-ba3b-92420c3c61bc",
   "metadata": {},
   "outputs": [
    {
     "data": {
      "text/html": [
       "<div>\n",
       "<style scoped>\n",
       "    .dataframe tbody tr th:only-of-type {\n",
       "        vertical-align: middle;\n",
       "    }\n",
       "\n",
       "    .dataframe tbody tr th {\n",
       "        vertical-align: top;\n",
       "    }\n",
       "\n",
       "    .dataframe thead th {\n",
       "        text-align: right;\n",
       "    }\n",
       "</style>\n",
       "<table border=\"1\" class=\"dataframe\">\n",
       "  <thead>\n",
       "    <tr style=\"text-align: right;\">\n",
       "      <th></th>\n",
       "      <th>index</th>\n",
       "      <th>Year</th>\n",
       "      <th>Mileage</th>\n",
       "      <th>Price</th>\n",
       "    </tr>\n",
       "  </thead>\n",
       "  <tbody>\n",
       "    <tr>\n",
       "      <th>count</th>\n",
       "      <td>37356.000000</td>\n",
       "      <td>37356.000000</td>\n",
       "      <td>37356.000000</td>\n",
       "      <td>37356.000000</td>\n",
       "    </tr>\n",
       "    <tr>\n",
       "      <th>mean</th>\n",
       "      <td>2934.412169</td>\n",
       "      <td>2018.054422</td>\n",
       "      <td>50777.997725</td>\n",
       "      <td>37525.623943</td>\n",
       "    </tr>\n",
       "    <tr>\n",
       "      <th>std</th>\n",
       "      <td>2063.487439</td>\n",
       "      <td>5.874374</td>\n",
       "      <td>42005.575918</td>\n",
       "      <td>26924.532753</td>\n",
       "    </tr>\n",
       "    <tr>\n",
       "      <th>min</th>\n",
       "      <td>0.000000</td>\n",
       "      <td>1968.000000</td>\n",
       "      <td>138.000000</td>\n",
       "      <td>3798.000000</td>\n",
       "    </tr>\n",
       "    <tr>\n",
       "      <th>25%</th>\n",
       "      <td>1184.000000</td>\n",
       "      <td>2016.000000</td>\n",
       "      <td>21079.000000</td>\n",
       "      <td>20998.000000</td>\n",
       "    </tr>\n",
       "    <tr>\n",
       "      <th>50%</th>\n",
       "      <td>2588.000000</td>\n",
       "      <td>2020.000000</td>\n",
       "      <td>40405.000000</td>\n",
       "      <td>32493.000000</td>\n",
       "    </tr>\n",
       "    <tr>\n",
       "      <th>75%</th>\n",
       "      <td>4404.000000</td>\n",
       "      <td>2021.000000</td>\n",
       "      <td>69425.000000</td>\n",
       "      <td>45701.000000</td>\n",
       "    </tr>\n",
       "    <tr>\n",
       "      <th>max</th>\n",
       "      <td>8273.000000</td>\n",
       "      <td>2024.000000</td>\n",
       "      <td>345741.000000</td>\n",
       "      <td>335000.000000</td>\n",
       "    </tr>\n",
       "  </tbody>\n",
       "</table>\n",
       "</div>"
      ],
      "text/plain": [
       "              index          Year        Mileage          Price\n",
       "count  37356.000000  37356.000000   37356.000000   37356.000000\n",
       "mean    2934.412169   2018.054422   50777.997725   37525.623943\n",
       "std     2063.487439      5.874374   42005.575918   26924.532753\n",
       "min        0.000000   1968.000000     138.000000    3798.000000\n",
       "25%     1184.000000   2016.000000   21079.000000   20998.000000\n",
       "50%     2588.000000   2020.000000   40405.000000   32493.000000\n",
       "75%     4404.000000   2021.000000   69425.000000   45701.000000\n",
       "max     8273.000000   2024.000000  345741.000000  335000.000000"
      ]
     },
     "execution_count": 400,
     "metadata": {},
     "output_type": "execute_result"
    }
   ],
   "source": [
    "train.describe()"
   ]
  },
  {
   "cell_type": "markdown",
   "id": "33a84680-adeb-46b8-93af-791fd4aa9a13",
   "metadata": {},
   "source": [
    "### Remove the duplicated data"
   ]
  },
  {
   "cell_type": "code",
   "execution_count": 401,
   "id": "634388ce-f1bd-4632-b7e0-ee8209b3b801",
   "metadata": {},
   "outputs": [
    {
     "data": {
      "text/plain": [
       "index             1207\n",
       "ID                1207\n",
       "Year              1207\n",
       "Brand             1207\n",
       "Model             1207\n",
       "Mileage           1207\n",
       "Bodystyle         1207\n",
       "Dealer            1207\n",
       "Exterior Color    1207\n",
       "Interior Color    1207\n",
       "Drivetrain        1207\n",
       "MPG               1181\n",
       "Fuel Type         1181\n",
       "Transmission      1181\n",
       "Engine            1181\n",
       "Price             1207\n",
       "dtype: int64"
      ]
     },
     "execution_count": 401,
     "metadata": {},
     "output_type": "execute_result"
    }
   ],
   "source": [
    "train = train.drop_duplicates(['ID'])\n",
    "train.count()"
   ]
  },
  {
   "cell_type": "markdown",
   "id": "7e282fa5-2aaf-4bc3-a8c6-391f97002c2f",
   "metadata": {},
   "source": [
    "### The 40 most popular brands"
   ]
  },
  {
   "cell_type": "code",
   "execution_count": 402,
   "id": "1ad19ac2-8f2b-428d-b87b-a83c209a6f16",
   "metadata": {},
   "outputs": [],
   "source": [
    "# Top 40 car brands\n",
    "brand_list = []\n",
    "for brand in Counter(train.Brand).most_common(40):\n",
    "    brand_list.append(brand[0])"
   ]
  },
  {
   "cell_type": "code",
   "execution_count": 403,
   "id": "6f758af1-e65d-4584-accf-89646daf0859",
   "metadata": {},
   "outputs": [
    {
     "name": "stdout",
     "output_type": "stream",
     "text": [
      "Brands that are not among the 40 most popular brands : aston_martin\n",
      "Brands that are not among the 40 most popular brands : rivian\n"
     ]
    }
   ],
   "source": [
    "# Check the index of data not included in the top 40 car brands\n",
    "idx_list = []\n",
    "idx = 0\n",
    "for brand in train[\"Brand\"]:\n",
    "    if brand not in brand_list:\n",
    "        print(f\"Brands that are not among the 40 most popular brands : {brand}\")\n",
    "        idx_list.append(idx)\n",
    "    idx += 1"
   ]
  },
  {
   "cell_type": "code",
   "execution_count": 404,
   "id": "077c7ebb-ca5c-4526-ae24-020ba61a9719",
   "metadata": {},
   "outputs": [],
   "source": [
    "# Only the top 40 car brands are filtered\n",
    "train = train.drop(idx_list)\n",
    "train.reset_index(drop=True, inplace=True)\n",
    "\n",
    "# Drop the index\n",
    "train = train.drop(\"index\", axis=1)"
   ]
  },
  {
   "cell_type": "markdown",
   "id": "2f079c94-d07d-48b4-b94e-e76363e8b9d3",
   "metadata": {},
   "source": [
    "### Feature engineering"
   ]
  },
  {
   "cell_type": "code",
   "execution_count": 405,
   "id": "07e02f10-cab8-4de8-8ba1-d61c20a3799d",
   "metadata": {},
   "outputs": [],
   "source": [
    "# Select models and brands as category variables\n",
    "categorical_features = ['Brand', 'Model', 'Bodystyle', 'Exterior Color', 'Interior Color', 'Drivetrain',\\\n",
    "                            'MPG','Fuel Type', 'Transmission','Engine']\n",
    "\n",
    "# categorical_features = ['Brand', 'Model']"
   ]
  },
  {
   "cell_type": "code",
   "execution_count": 406,
   "id": "bfd874dc-c3a8-45b4-909c-07938d82fb59",
   "metadata": {},
   "outputs": [
    {
     "data": {
      "text/html": [
       "<div>\n",
       "<style scoped>\n",
       "    .dataframe tbody tr th:only-of-type {\n",
       "        vertical-align: middle;\n",
       "    }\n",
       "\n",
       "    .dataframe tbody tr th {\n",
       "        vertical-align: top;\n",
       "    }\n",
       "\n",
       "    .dataframe thead th {\n",
       "        text-align: right;\n",
       "    }\n",
       "</style>\n",
       "<table border=\"1\" class=\"dataframe\">\n",
       "  <thead>\n",
       "    <tr style=\"text-align: right;\">\n",
       "      <th></th>\n",
       "      <th>Brand_acura</th>\n",
       "      <th>Brand_aston_martin</th>\n",
       "      <th>Brand_audi</th>\n",
       "      <th>Brand_bentley</th>\n",
       "      <th>Brand_bmw</th>\n",
       "      <th>Brand_buick</th>\n",
       "      <th>Brand_cadillac</th>\n",
       "      <th>Brand_chevrolet</th>\n",
       "      <th>Brand_chrysler</th>\n",
       "      <th>Brand_dodge</th>\n",
       "      <th>...</th>\n",
       "      <th>Engine_regular unleaded v-6 3.8 l/231</th>\n",
       "      <th>Engine_turbocharged gas v8 6.2l/376</th>\n",
       "      <th>Engine_twin turbo premium unleaded v-6 3.4 l/210</th>\n",
       "      <th>Engine_twin turbo premium unleaded v-8 4.0 l/243</th>\n",
       "      <th>Engine_twin turbo premium unleaded v-8 4.4 l/268</th>\n",
       "      <th>Engine_v6</th>\n",
       "      <th>Engine_v8</th>\n",
       "      <th>Engine_vq 3.5l v-6 dohc, variable valve control, premium unleaded, engi</th>\n",
       "      <th>Engine_vq 3.7l v-6 dohc, variable valve control, premium unleaded, engi</th>\n",
       "      <th>Engine_vq 4l v-6 dohc, variable valve control, regular unleaded, engine</th>\n",
       "    </tr>\n",
       "  </thead>\n",
       "  <tbody>\n",
       "    <tr>\n",
       "      <th>0</th>\n",
       "      <td>False</td>\n",
       "      <td>False</td>\n",
       "      <td>False</td>\n",
       "      <td>False</td>\n",
       "      <td>False</td>\n",
       "      <td>False</td>\n",
       "      <td>False</td>\n",
       "      <td>False</td>\n",
       "      <td>False</td>\n",
       "      <td>False</td>\n",
       "      <td>...</td>\n",
       "      <td>False</td>\n",
       "      <td>False</td>\n",
       "      <td>False</td>\n",
       "      <td>False</td>\n",
       "      <td>False</td>\n",
       "      <td>False</td>\n",
       "      <td>False</td>\n",
       "      <td>False</td>\n",
       "      <td>False</td>\n",
       "      <td>False</td>\n",
       "    </tr>\n",
       "    <tr>\n",
       "      <th>1</th>\n",
       "      <td>False</td>\n",
       "      <td>False</td>\n",
       "      <td>False</td>\n",
       "      <td>False</td>\n",
       "      <td>False</td>\n",
       "      <td>False</td>\n",
       "      <td>False</td>\n",
       "      <td>False</td>\n",
       "      <td>False</td>\n",
       "      <td>False</td>\n",
       "      <td>...</td>\n",
       "      <td>False</td>\n",
       "      <td>False</td>\n",
       "      <td>False</td>\n",
       "      <td>False</td>\n",
       "      <td>False</td>\n",
       "      <td>False</td>\n",
       "      <td>False</td>\n",
       "      <td>False</td>\n",
       "      <td>False</td>\n",
       "      <td>False</td>\n",
       "    </tr>\n",
       "    <tr>\n",
       "      <th>2</th>\n",
       "      <td>False</td>\n",
       "      <td>False</td>\n",
       "      <td>False</td>\n",
       "      <td>False</td>\n",
       "      <td>False</td>\n",
       "      <td>False</td>\n",
       "      <td>False</td>\n",
       "      <td>False</td>\n",
       "      <td>False</td>\n",
       "      <td>False</td>\n",
       "      <td>...</td>\n",
       "      <td>False</td>\n",
       "      <td>False</td>\n",
       "      <td>False</td>\n",
       "      <td>False</td>\n",
       "      <td>False</td>\n",
       "      <td>False</td>\n",
       "      <td>False</td>\n",
       "      <td>False</td>\n",
       "      <td>False</td>\n",
       "      <td>False</td>\n",
       "    </tr>\n",
       "    <tr>\n",
       "      <th>3</th>\n",
       "      <td>True</td>\n",
       "      <td>False</td>\n",
       "      <td>False</td>\n",
       "      <td>False</td>\n",
       "      <td>False</td>\n",
       "      <td>False</td>\n",
       "      <td>False</td>\n",
       "      <td>False</td>\n",
       "      <td>False</td>\n",
       "      <td>False</td>\n",
       "      <td>...</td>\n",
       "      <td>False</td>\n",
       "      <td>False</td>\n",
       "      <td>False</td>\n",
       "      <td>False</td>\n",
       "      <td>False</td>\n",
       "      <td>False</td>\n",
       "      <td>False</td>\n",
       "      <td>False</td>\n",
       "      <td>False</td>\n",
       "      <td>False</td>\n",
       "    </tr>\n",
       "    <tr>\n",
       "      <th>4</th>\n",
       "      <td>False</td>\n",
       "      <td>False</td>\n",
       "      <td>False</td>\n",
       "      <td>False</td>\n",
       "      <td>False</td>\n",
       "      <td>False</td>\n",
       "      <td>False</td>\n",
       "      <td>False</td>\n",
       "      <td>False</td>\n",
       "      <td>False</td>\n",
       "      <td>...</td>\n",
       "      <td>False</td>\n",
       "      <td>False</td>\n",
       "      <td>False</td>\n",
       "      <td>False</td>\n",
       "      <td>False</td>\n",
       "      <td>False</td>\n",
       "      <td>False</td>\n",
       "      <td>False</td>\n",
       "      <td>False</td>\n",
       "      <td>False</td>\n",
       "    </tr>\n",
       "  </tbody>\n",
       "</table>\n",
       "<p>5 rows × 1647 columns</p>\n",
       "</div>"
      ],
      "text/plain": [
       "   Brand_acura  Brand_aston_martin  Brand_audi  Brand_bentley  Brand_bmw  \\\n",
       "0        False               False       False          False      False   \n",
       "1        False               False       False          False      False   \n",
       "2        False               False       False          False      False   \n",
       "3         True               False       False          False      False   \n",
       "4        False               False       False          False      False   \n",
       "\n",
       "   Brand_buick  Brand_cadillac  Brand_chevrolet  Brand_chrysler  Brand_dodge  \\\n",
       "0        False           False            False           False        False   \n",
       "1        False           False            False           False        False   \n",
       "2        False           False            False           False        False   \n",
       "3        False           False            False           False        False   \n",
       "4        False           False            False           False        False   \n",
       "\n",
       "   ...  Engine_regular unleaded v-6 3.8 l/231  \\\n",
       "0  ...                                  False   \n",
       "1  ...                                  False   \n",
       "2  ...                                  False   \n",
       "3  ...                                  False   \n",
       "4  ...                                  False   \n",
       "\n",
       "   Engine_turbocharged gas v8 6.2l/376  \\\n",
       "0                                False   \n",
       "1                                False   \n",
       "2                                False   \n",
       "3                                False   \n",
       "4                                False   \n",
       "\n",
       "   Engine_twin turbo premium unleaded v-6 3.4 l/210  \\\n",
       "0                                             False   \n",
       "1                                             False   \n",
       "2                                             False   \n",
       "3                                             False   \n",
       "4                                             False   \n",
       "\n",
       "   Engine_twin turbo premium unleaded v-8 4.0 l/243  \\\n",
       "0                                             False   \n",
       "1                                             False   \n",
       "2                                             False   \n",
       "3                                             False   \n",
       "4                                             False   \n",
       "\n",
       "   Engine_twin turbo premium unleaded v-8 4.4 l/268  Engine_v6  Engine_v8  \\\n",
       "0                                             False      False      False   \n",
       "1                                             False      False      False   \n",
       "2                                             False      False      False   \n",
       "3                                             False      False      False   \n",
       "4                                             False      False      False   \n",
       "\n",
       "   Engine_vq 3.5l v-6 dohc, variable valve control, premium unleaded, engi  \\\n",
       "0                                              False                         \n",
       "1                                              False                         \n",
       "2                                              False                         \n",
       "3                                              False                         \n",
       "4                                              False                         \n",
       "\n",
       "   Engine_vq 3.7l v-6 dohc, variable valve control, premium unleaded, engi  \\\n",
       "0                                              False                         \n",
       "1                                              False                         \n",
       "2                                              False                         \n",
       "3                                              False                         \n",
       "4                                              False                         \n",
       "\n",
       "   Engine_vq 4l v-6 dohc, variable valve control, regular unleaded, engine  \n",
       "0                                              False                        \n",
       "1                                              False                        \n",
       "2                                              False                        \n",
       "3                                              False                        \n",
       "4                                              False                        \n",
       "\n",
       "[5 rows x 1647 columns]"
      ]
     },
     "execution_count": 406,
     "metadata": {},
     "output_type": "execute_result"
    }
   ],
   "source": [
    "# Dummy category variable\n",
    "dummy_cat = pd.get_dummies(train[categorical_features])\n",
    "dummy_cat.head()"
   ]
  },
  {
   "cell_type": "code",
   "execution_count": 408,
   "id": "b7eae1fc-9049-4810-ba91-646f684fc901",
   "metadata": {},
   "outputs": [],
   "source": [
    "# Select by numeric variable\n",
    "numerical_features = ['Year', 'Mileage', 'Price']"
   ]
  },
  {
   "cell_type": "code",
   "execution_count": 409,
   "id": "49cd060e-ea62-45b8-a088-bfffeb9ee733",
   "metadata": {},
   "outputs": [],
   "source": [
    "normalize_num = np.log1p(train[numerical_features])"
   ]
  },
  {
   "cell_type": "code",
   "execution_count": 410,
   "id": "df9ed9d4-4295-43be-917d-632b7b56f9bf",
   "metadata": {},
   "outputs": [
    {
     "data": {
      "text/html": [
       "<div>\n",
       "<style scoped>\n",
       "    .dataframe tbody tr th:only-of-type {\n",
       "        vertical-align: middle;\n",
       "    }\n",
       "\n",
       "    .dataframe tbody tr th {\n",
       "        vertical-align: top;\n",
       "    }\n",
       "\n",
       "    .dataframe thead th {\n",
       "        text-align: right;\n",
       "    }\n",
       "</style>\n",
       "<table border=\"1\" class=\"dataframe\">\n",
       "  <thead>\n",
       "    <tr style=\"text-align: right;\">\n",
       "      <th></th>\n",
       "      <th>Year</th>\n",
       "      <th>Mileage</th>\n",
       "      <th>Price</th>\n",
       "    </tr>\n",
       "  </thead>\n",
       "  <tbody>\n",
       "    <tr>\n",
       "      <th>0</th>\n",
       "      <td>7.612831</td>\n",
       "      <td>9.241742</td>\n",
       "      <td>10.399737</td>\n",
       "    </tr>\n",
       "    <tr>\n",
       "      <th>1</th>\n",
       "      <td>7.610358</td>\n",
       "      <td>10.589031</td>\n",
       "      <td>10.868264</td>\n",
       "    </tr>\n",
       "    <tr>\n",
       "      <th>2</th>\n",
       "      <td>7.611348</td>\n",
       "      <td>11.439839</td>\n",
       "      <td>10.739501</td>\n",
       "    </tr>\n",
       "    <tr>\n",
       "      <th>3</th>\n",
       "      <td>7.611348</td>\n",
       "      <td>9.982853</td>\n",
       "      <td>10.221796</td>\n",
       "    </tr>\n",
       "    <tr>\n",
       "      <th>4</th>\n",
       "      <td>7.612831</td>\n",
       "      <td>10.130862</td>\n",
       "      <td>10.591522</td>\n",
       "    </tr>\n",
       "  </tbody>\n",
       "</table>\n",
       "</div>"
      ],
      "text/plain": [
       "       Year    Mileage      Price\n",
       "0  7.612831   9.241742  10.399737\n",
       "1  7.610358  10.589031  10.868264\n",
       "2  7.611348  11.439839  10.739501\n",
       "3  7.611348   9.982853  10.221796\n",
       "4  7.612831  10.130862  10.591522"
      ]
     },
     "execution_count": 410,
     "metadata": {},
     "output_type": "execute_result"
    }
   ],
   "source": [
    "normalize_num.head()"
   ]
  },
  {
   "cell_type": "code",
   "execution_count": 411,
   "id": "615446ee-8d60-4d02-8bf3-f358b0defccc",
   "metadata": {},
   "outputs": [],
   "source": [
    "# Join numeric variable with categoric variable\n",
    "X_train_0 = normalize_num.join(dummy_cat)\n",
    "\n",
    "# Seperate price as y value\n",
    "y_train = X_train_0[\"Price\"]\n",
    "X_train = X_train_0.drop(\"Price\", axis=1)"
   ]
  },
  {
   "cell_type": "markdown",
   "id": "9150c8e9-b566-4e27-b8ac-a00e5b6333be",
   "metadata": {},
   "source": [
    "### Model : XGBoost Model\n",
    "XGBoost is short for “Extreme Gradient Boosting”, where the term “Gradient Boosting” is proposed in the paper Greedy Function Approximation: A Gradient Boosting Machine, by Friedman. XGBoost is based on this original model.\n",
    "\n",
    "XGBoost is used for supervised learning problems, where we use the training data (with multiple features) x to predict a target variable y. "
   ]
  },
  {
   "cell_type": "code",
   "execution_count": 412,
   "id": "e49326ea-5790-450d-8356-e4863fc4971d",
   "metadata": {},
   "outputs": [],
   "source": [
    "# K-ford : 10\n",
    "k_fold = KFold(n_splits=10, shuffle=True, random_state=2024)\n",
    "X_train1, X_test1, y_train1, y_test1 = train_test_split(X_train, y_train)"
   ]
  },
  {
   "cell_type": "code",
   "execution_count": 413,
   "id": "e7bae5c7-c233-403b-ac15-74b9f290bdad",
   "metadata": {},
   "outputs": [],
   "source": [
    "ml = XGBRegressor(n_estimators=1000, learning_rate=0.05, verbose=False)"
   ]
  },
  {
   "cell_type": "code",
   "execution_count": 414,
   "id": "1c58951f-b3e7-4d29-bfbd-f12813a7fc29",
   "metadata": {},
   "outputs": [
    {
     "name": "stdout",
     "output_type": "stream",
     "text": [
      "CPU times: user 127 ms, sys: 138 ms, total: 264 ms\n",
      "Wall time: 25.7 s\n",
      "Score = 0.84750\n"
     ]
    }
   ],
   "source": [
    "# Check the corss validation score\n",
    "%time score = cross_val_score(ml, X_train, y_train, cv=k_fold, n_jobs=-1, scoring=\"r2\").mean()\n",
    "print(\"Score = {0:.5f}\".format(score))"
   ]
  },
  {
   "cell_type": "code",
   "execution_count": 415,
   "id": "a6c28bf9-c6e3-49a1-99e8-20872c86ebcb",
   "metadata": {},
   "outputs": [
    {
     "name": "stderr",
     "output_type": "stream",
     "text": [
      "/Users/danny/anaconda3/envs/python38/lib/python3.8/site-packages/xgboost/core.py:160: UserWarning: [16:09:00] WARNING: /Users/runner/work/xgboost/xgboost/src/learner.cc:742: \n",
      "Parameters: { \"verbose\" } are not used.\n",
      "\n",
      "  warnings.warn(smsg, UserWarning)\n"
     ]
    },
    {
     "data": {
      "image/png": "[encoded data removed]",
      "text/plain": [
       "<Figure size 1000x500 with 1 Axes>"
      ]
     },
     "metadata": {},
     "output_type": "display_data"
    }
   ],
   "source": [
    "# Train model\n",
    "ml = ml.fit(X_train1, y_train1, verbose=False)\n",
    "\n",
    "# Predict test data set\n",
    "y_pred = ml.predict(X_test1)\n",
    "\n",
    "# Drawing regression graph\n",
    "plt.figure(figsize=(10, 5))\n",
    "plt.scatter(y_test1, y_pred, s=20)\n",
    "plt.title('Predicted vs. Actual')\n",
    "plt.xlabel('Actual Sale Price')\n",
    "plt.ylabel('Predicted Sale Price')\n",
    "\n",
    "plt.plot([min(y_test1), max(y_test1)], [min(y_test1), max(y_test1)])\n",
    "plt.tight_layout()"
   ]
  },
  {
   "cell_type": "code",
   "execution_count": 416,
   "id": "93aba12d-d5f5-43d2-80b3-e206a1ee166f",
   "metadata": {},
   "outputs": [],
   "source": [
    "brand = 'honda'\n",
    "model = 'accord'\n",
    "year = int(2010)\n",
    "mileage = int(150000)\n",
    "\n",
    "target = pd.DataFrame(columns=[X_train1.columns])"
   ]
  },
  {
   "cell_type": "code",
   "execution_count": 417,
   "id": "df9b42ca-536c-46c1-8230-87d7e03ada6a",
   "metadata": {},
   "outputs": [
    {
     "data": {
      "text/plain": [
       "16"
      ]
     },
     "execution_count": 417,
     "metadata": {},
     "output_type": "execute_result"
    }
   ],
   "source": [
    "brand_index = 0\n",
    "for col in X_train1.columns:\n",
    "    if col == 'Brand' + \"_\" + brand:\n",
    "        break;\n",
    "    brand_index += 1\n",
    "brand_index"
   ]
  },
  {
   "cell_type": "code",
   "execution_count": 418,
   "id": "0a5645bc-9426-41ec-8410-90639e429415",
   "metadata": {},
   "outputs": [
    {
     "data": {
      "text/plain": [
       "81"
      ]
     },
     "execution_count": 418,
     "metadata": {},
     "output_type": "execute_result"
    }
   ],
   "source": [
    "# Check the index location of the selected used car model in the variable column data frame\n",
    "model_index = 0\n",
    "for col in X_train1.columns:\n",
    "    if col == 'Model' + \"_\" + model:\n",
    "        break;\n",
    "    model_index += 1\n",
    "    \n",
    "model_index"
   ]
  },
  {
   "cell_type": "code",
   "execution_count": 419,
   "id": "52739c07-82b7-4a8a-a432-4259208a0ce1",
   "metadata": {},
   "outputs": [],
   "source": [
    "# Array of zeros\n",
    "target_list = np.zeros_like(X_train1.iloc[0])"
   ]
  },
  {
   "cell_type": "code",
   "execution_count": 420,
   "id": "ba58214f-1ba9-4ebd-a99f-db1d404438c5",
   "metadata": {},
   "outputs": [],
   "source": [
    "# Put the number 1 in the selected brand and model locations in the data frame\n",
    "target_list[brand_index] = 1\n",
    "target_list[model_index] = 1"
   ]
  },
  {
   "cell_type": "code",
   "execution_count": 421,
   "id": "476f69a1-0a94-4500-aff9-c0043f3b73f6",
   "metadata": {},
   "outputs": [],
   "source": [
    "# Put the year and miles in the data frame\n",
    "target_list[0] = year\n",
    "target_list[1] = mileage"
   ]
  },
  {
   "cell_type": "code",
   "execution_count": 422,
   "id": "79dd3202-ddbc-4ea5-b313-76ef931517cb",
   "metadata": {},
   "outputs": [],
   "source": [
    "# Convert all elements in target_list with 0 being False and 1 being True\n",
    "transformed_values = [True if x == 1 else False for x in target_list[2:]]\n",
    "target_list = [target_list[0], target_list[1]] + transformed_values"
   ]
  },
  {
   "cell_type": "code",
   "execution_count": 423,
   "id": "7c1d31c0-c281-4a14-86b8-691422aa4601",
   "metadata": {},
   "outputs": [],
   "source": [
    "# Insert data into target data frame\n",
    "for i in range(1):\n",
    "    target.loc[i] = target_list"
   ]
  },
  {
   "cell_type": "code",
   "execution_count": 424,
   "id": "5df302c7-a4ed-4a5c-b01f-af041453ea8b",
   "metadata": {},
   "outputs": [],
   "source": [
    "numerical_features = ['Year', 'Mileage']"
   ]
  },
  {
   "cell_type": "code",
   "execution_count": 425,
   "id": "a1e31c41-32f2-4bfc-9c90-60d687443391",
   "metadata": {},
   "outputs": [
    {
     "data": {
      "text/html": [
       "<div>\n",
       "<style scoped>\n",
       "    .dataframe tbody tr th:only-of-type {\n",
       "        vertical-align: middle;\n",
       "    }\n",
       "\n",
       "    .dataframe tbody tr th {\n",
       "        vertical-align: top;\n",
       "    }\n",
       "\n",
       "    .dataframe thead tr th {\n",
       "        text-align: left;\n",
       "    }\n",
       "</style>\n",
       "<table border=\"1\" class=\"dataframe\">\n",
       "  <thead>\n",
       "    <tr>\n",
       "      <th></th>\n",
       "      <th>Year</th>\n",
       "      <th>Mileage</th>\n",
       "    </tr>\n",
       "  </thead>\n",
       "  <tbody>\n",
       "    <tr>\n",
       "      <th>0</th>\n",
       "      <td>2010</td>\n",
       "      <td>150000</td>\n",
       "    </tr>\n",
       "  </tbody>\n",
       "</table>\n",
       "</div>"
      ],
      "text/plain": [
       "   Year Mileage\n",
       "0  2010  150000"
      ]
     },
     "execution_count": 425,
     "metadata": {},
     "output_type": "execute_result"
    }
   ],
   "source": [
    "target[numerical_features]"
   ]
  },
  {
   "cell_type": "code",
   "execution_count": 426,
   "id": "81d07e5f-6802-4d39-a5ef-1c58655603c9",
   "metadata": {},
   "outputs": [
    {
     "name": "stdout",
     "output_type": "stream",
     "text": [
      "       Year    Mileage\n",
      "0  7.606387  11.918397\n"
     ]
    }
   ],
   "source": [
    "# Convert the values ​​in the Year and Mileage columns to float form and apply the log1p function\n",
    "normalize_target = target[numerical_features].astype(float).apply(np.log1p)\n",
    "print(normalize_target)"
   ]
  },
  {
   "cell_type": "code",
   "execution_count": 427,
   "id": "c280a972-4483-4ccf-b88f-08940f698d7e",
   "metadata": {
    "scrolled": true
   },
   "outputs": [
    {
     "name": "stderr",
     "output_type": "stream",
     "text": [
      "/var/folders/yd/fz6tljkd6410lpk0jbrx_jgc0000gn/T/ipykernel_5042/2404028275.py:2: PerformanceWarning: dropping on a non-lexsorted multi-index without a level parameter may impact performance.\n",
      "  target.drop(['Year', 'Mileage'], axis=1, inplace=True)\n"
     ]
    },
    {
     "data": {
      "text/html": [
       "<div>\n",
       "<style scoped>\n",
       "    .dataframe tbody tr th:only-of-type {\n",
       "        vertical-align: middle;\n",
       "    }\n",
       "\n",
       "    .dataframe tbody tr th {\n",
       "        vertical-align: top;\n",
       "    }\n",
       "\n",
       "    .dataframe thead tr th {\n",
       "        text-align: left;\n",
       "    }\n",
       "</style>\n",
       "<table border=\"1\" class=\"dataframe\">\n",
       "  <thead>\n",
       "    <tr>\n",
       "      <th></th>\n",
       "      <th>Year</th>\n",
       "      <th>Mileage</th>\n",
       "      <th>Brand_acura</th>\n",
       "      <th>Brand_aston_martin</th>\n",
       "      <th>Brand_audi</th>\n",
       "      <th>Brand_bentley</th>\n",
       "      <th>Brand_bmw</th>\n",
       "      <th>Brand_buick</th>\n",
       "      <th>Brand_cadillac</th>\n",
       "      <th>Brand_chevrolet</th>\n",
       "      <th>...</th>\n",
       "      <th>Engine_regular unleaded v-6 3.8 l/231</th>\n",
       "      <th>Engine_turbocharged gas v8 6.2l/376</th>\n",
       "      <th>Engine_twin turbo premium unleaded v-6 3.4 l/210</th>\n",
       "      <th>Engine_twin turbo premium unleaded v-8 4.0 l/243</th>\n",
       "      <th>Engine_twin turbo premium unleaded v-8 4.4 l/268</th>\n",
       "      <th>Engine_v6</th>\n",
       "      <th>Engine_v8</th>\n",
       "      <th>Engine_vq 3.5l v-6 dohc, variable valve control, premium unleaded, engi</th>\n",
       "      <th>Engine_vq 3.7l v-6 dohc, variable valve control, premium unleaded, engi</th>\n",
       "      <th>Engine_vq 4l v-6 dohc, variable valve control, regular unleaded, engine</th>\n",
       "    </tr>\n",
       "  </thead>\n",
       "  <tbody>\n",
       "    <tr>\n",
       "      <th>0</th>\n",
       "      <td>7.606387</td>\n",
       "      <td>11.918397</td>\n",
       "      <td>False</td>\n",
       "      <td>False</td>\n",
       "      <td>False</td>\n",
       "      <td>False</td>\n",
       "      <td>False</td>\n",
       "      <td>False</td>\n",
       "      <td>False</td>\n",
       "      <td>False</td>\n",
       "      <td>...</td>\n",
       "      <td>False</td>\n",
       "      <td>False</td>\n",
       "      <td>False</td>\n",
       "      <td>False</td>\n",
       "      <td>False</td>\n",
       "      <td>False</td>\n",
       "      <td>False</td>\n",
       "      <td>False</td>\n",
       "      <td>False</td>\n",
       "      <td>False</td>\n",
       "    </tr>\n",
       "  </tbody>\n",
       "</table>\n",
       "<p>1 rows × 1649 columns</p>\n",
       "</div>"
      ],
      "text/plain": [
       "       Year    Mileage Brand_acura Brand_aston_martin Brand_audi  \\\n",
       "0  7.606387  11.918397       False              False      False   \n",
       "\n",
       "  Brand_bentley Brand_bmw Brand_buick Brand_cadillac Brand_chevrolet  ...  \\\n",
       "0         False     False       False          False           False  ...   \n",
       "\n",
       "  Engine_regular unleaded v-6 3.8 l/231 Engine_turbocharged gas v8 6.2l/376  \\\n",
       "0                                 False                               False   \n",
       "\n",
       "  Engine_twin turbo premium unleaded v-6 3.4 l/210  \\\n",
       "0                                            False   \n",
       "\n",
       "  Engine_twin turbo premium unleaded v-8 4.0 l/243  \\\n",
       "0                                            False   \n",
       "\n",
       "  Engine_twin turbo premium unleaded v-8 4.4 l/268 Engine_v6 Engine_v8  \\\n",
       "0                                            False     False     False   \n",
       "\n",
       "  Engine_vq 3.5l v-6 dohc, variable valve control, premium unleaded, engi  \\\n",
       "0                                              False                        \n",
       "\n",
       "  Engine_vq 3.7l v-6 dohc, variable valve control, premium unleaded, engi  \\\n",
       "0                                              False                        \n",
       "\n",
       "  Engine_vq 4l v-6 dohc, variable valve control, regular unleaded, engine  \n",
       "0                                              False                       \n",
       "\n",
       "[1 rows x 1649 columns]"
      ]
     },
     "execution_count": 427,
     "metadata": {},
     "output_type": "execute_result"
    }
   ],
   "source": [
    "# After deleting the Year and Mileage columns, combine them with the normalize_target dataframe to create target_goal.\n",
    "target.drop(['Year', 'Mileage'], axis=1, level=0, inplace=True)\n",
    "target_goal = normalize_target.join(target)\n",
    "target_goal"
   ]
  },
  {
   "cell_type": "markdown",
   "id": "6bfe00b7-4792-42fe-8ea8-028192574f86",
   "metadata": {},
   "source": [
    "### Predict Used_Car Values"
   ]
  },
  {
   "cell_type": "code",
   "execution_count": 428,
   "id": "719a4478-3615-4346-bfe3-a734a57f407a",
   "metadata": {
    "scrolled": true
   },
   "outputs": [],
   "source": [
    "# Predicted logged price\n",
    "price_log = ml.predict(target_goal)"
   ]
  },
  {
   "cell_type": "code",
   "execution_count": 429,
   "id": "4c5c7332-55b7-47b7-ab28-a9f3a10f5526",
   "metadata": {},
   "outputs": [
    {
     "name": "stdout",
     "output_type": "stream",
     "text": [
      "Brand : HONDA\n",
      "Model : ACCORD\n",
      "Year  : 2010\n",
      "Estimated Price : $8539\n"
     ]
    }
   ],
   "source": [
    "# Revert the logged price back to its original price\n",
    "price = np.exp(price_log)\n",
    "print(f\"Brand : {brand.upper()}\")\n",
    "print(f\"Model : {model.upper()}\")\n",
    "print(f\"Year  : {year}\")\n",
    "print(f\"Estimated Price : ${int(price)}\")"
   ]
  },
  {
   "cell_type": "markdown",
   "id": "b00f8d49-4760-40f2-a073-82ba66761d65",
   "metadata": {},
   "source": [
    "### Compare same model with different years"
   ]
  },
  {
   "cell_type": "code",
   "execution_count": 431,
   "id": "8ca1372f-0467-4603-9805-df66e657a911",
   "metadata": {
    "scrolled": true
   },
   "outputs": [
    {
     "data": {
      "text/html": [
       "<div>\n",
       "<style scoped>\n",
       "    .dataframe tbody tr th:only-of-type {\n",
       "        vertical-align: middle;\n",
       "    }\n",
       "\n",
       "    .dataframe tbody tr th {\n",
       "        vertical-align: top;\n",
       "    }\n",
       "\n",
       "    .dataframe thead th {\n",
       "        text-align: right;\n",
       "    }\n",
       "</style>\n",
       "<table border=\"1\" class=\"dataframe\">\n",
       "  <thead>\n",
       "    <tr style=\"text-align: right;\">\n",
       "      <th></th>\n",
       "      <th>Year</th>\n",
       "      <th>Price</th>\n",
       "    </tr>\n",
       "  </thead>\n",
       "  <tbody>\n",
       "    <tr>\n",
       "      <th>0</th>\n",
       "      <td>2010</td>\n",
       "      <td>9725</td>\n",
       "    </tr>\n",
       "    <tr>\n",
       "      <th>1</th>\n",
       "      <td>2012</td>\n",
       "      <td>10450</td>\n",
       "    </tr>\n",
       "    <tr>\n",
       "      <th>2</th>\n",
       "      <td>2014</td>\n",
       "      <td>13250</td>\n",
       "    </tr>\n",
       "    <tr>\n",
       "      <th>3</th>\n",
       "      <td>2016</td>\n",
       "      <td>13495</td>\n",
       "    </tr>\n",
       "    <tr>\n",
       "      <th>4</th>\n",
       "      <td>2018</td>\n",
       "      <td>21285</td>\n",
       "    </tr>\n",
       "    <tr>\n",
       "      <th>5</th>\n",
       "      <td>2019</td>\n",
       "      <td>25825</td>\n",
       "    </tr>\n",
       "    <tr>\n",
       "      <th>6</th>\n",
       "      <td>2020</td>\n",
       "      <td>27993</td>\n",
       "    </tr>\n",
       "  </tbody>\n",
       "</table>\n",
       "</div>"
      ],
      "text/plain": [
       "   Year  Price\n",
       "0  2010   9725\n",
       "1  2012  10450\n",
       "2  2014  13250\n",
       "3  2016  13495\n",
       "4  2018  21285\n",
       "5  2019  25825\n",
       "6  2020  27993"
      ]
     },
     "execution_count": 431,
     "metadata": {},
     "output_type": "execute_result"
    },
    {
     "name": "stderr",
     "output_type": "stream",
     "text": [
      "/Users/danny/anaconda3/envs/python38/lib/python3.8/site-packages/xgboost/core.py:160: UserWarning: [16:08:37] WARNING: /Users/runner/work/xgboost/xgboost/src/learner.cc:742: \n",
      "Parameters: { \"verbose\" } are not used.\n",
      "\n",
      "  warnings.warn(smsg, UserWarning)\n",
      "/Users/danny/anaconda3/envs/python38/lib/python3.8/site-packages/xgboost/core.py:160: UserWarning: [16:08:37] WARNING: /Users/runner/work/xgboost/xgboost/src/learner.cc:742: \n",
      "Parameters: { \"verbose\" } are not used.\n",
      "\n",
      "  warnings.warn(smsg, UserWarning)\n",
      "/Users/danny/anaconda3/envs/python38/lib/python3.8/site-packages/xgboost/core.py:160: UserWarning: [16:08:37] WARNING: /Users/runner/work/xgboost/xgboost/src/learner.cc:742: \n",
      "Parameters: { \"verbose\" } are not used.\n",
      "\n",
      "  warnings.warn(smsg, UserWarning)\n",
      "/Users/danny/anaconda3/envs/python38/lib/python3.8/site-packages/xgboost/core.py:160: UserWarning: [16:08:37] WARNING: /Users/runner/work/xgboost/xgboost/src/learner.cc:742: \n",
      "Parameters: { \"verbose\" } are not used.\n",
      "\n",
      "  warnings.warn(smsg, UserWarning)\n",
      "/Users/danny/anaconda3/envs/python38/lib/python3.8/site-packages/xgboost/core.py:160: UserWarning: [16:08:37] WARNING: /Users/runner/work/xgboost/xgboost/src/learner.cc:742: \n",
      "Parameters: { \"verbose\" } are not used.\n",
      "\n",
      "  warnings.warn(smsg, UserWarning)\n",
      "/Users/danny/anaconda3/envs/python38/lib/python3.8/site-packages/xgboost/core.py:160: UserWarning: [16:08:37] WARNING: /Users/runner/work/xgboost/xgboost/src/learner.cc:742: \n",
      "Parameters: { \"verbose\" } are not used.\n",
      "\n",
      "  warnings.warn(smsg, UserWarning)\n",
      "/Users/danny/anaconda3/envs/python38/lib/python3.8/site-packages/xgboost/core.py:160: UserWarning: [16:08:37] WARNING: /Users/runner/work/xgboost/xgboost/src/learner.cc:742: \n",
      "Parameters: { \"verbose\" } are not used.\n",
      "\n",
      "  warnings.warn(smsg, UserWarning)\n",
      "/Users/danny/anaconda3/envs/python38/lib/python3.8/site-packages/xgboost/core.py:160: UserWarning: [16:08:52] WARNING: /Users/runner/work/xgboost/xgboost/src/learner.cc:742: \n",
      "Parameters: { \"verbose\" } are not used.\n",
      "\n",
      "  warnings.warn(smsg, UserWarning)\n",
      "/Users/danny/anaconda3/envs/python38/lib/python3.8/site-packages/xgboost/core.py:160: UserWarning: [16:08:37] WARNING: /Users/runner/work/xgboost/xgboost/src/learner.cc:742: \n",
      "Parameters: { \"verbose\" } are not used.\n",
      "\n",
      "  warnings.warn(smsg, UserWarning)\n",
      "/Users/danny/anaconda3/envs/python38/lib/python3.8/site-packages/xgboost/core.py:160: UserWarning: [16:08:52] WARNING: /Users/runner/work/xgboost/xgboost/src/learner.cc:742: \n",
      "Parameters: { \"verbose\" } are not used.\n",
      "\n",
      "  warnings.warn(smsg, UserWarning)\n"
     ]
    }
   ],
   "source": [
    "# Find the average of the same model for each year\n",
    "actual_car_info = train[[\"Brand\", \"Model\", \"Year\", \"Mileage\", \"Price\"]]\n",
    "\n",
    "same_model = actual_car_info[actual_car_info[\"Model\"]== model] \n",
    "year_price = same_model[[\"Year\",\"Price\"]]\n",
    "year_price_list = year_price.groupby(\"Year\").agg({'Price':np.mean}).astype('int')\n",
    "year_price_list = year_price_list.reset_index()\n",
    "year_price_list"
   ]
  }
 ],
 "metadata": {
  "kernelspec": {
   "display_name": "Python 3 (ipykernel)",
   "language": "python",
   "name": "python3"
  },
  "language_info": {
   "codemirror_mode": {
    "name": "ipython",
    "version": 3
   },
   "file_extension": ".py",
   "mimetype": "text/x-python",
   "name": "python",
   "nbconvert_exporter": "python",
   "pygments_lexer": "ipython3",
   "version": "3.11.5"
  }
 },
 "nbformat": 4,
 "nbformat_minor": 5
}
