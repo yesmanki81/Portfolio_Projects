{
 "cells": [
  {
   "cell_type": "code",
   "execution_count": 1,
   "metadata": {},
   "outputs": [],
   "source": [
    "import numpy as np\n",
    "import matplotlib.pyplot as plt\n",
    "import MySQLdb, pickle\n",
    "import pandas as pd\n",
    "from sqlalchemy import create_engine\n",
    "from collections import Counter"
   ]
  },
  {
   "cell_type": "code",
   "execution_count": 2,
   "metadata": {},
   "outputs": [
    {
     "data": {
      "text/html": [
       "<div>\n",
       "<style scoped>\n",
       "    .dataframe tbody tr th:only-of-type {\n",
       "        vertical-align: middle;\n",
       "    }\n",
       "\n",
       "    .dataframe tbody tr th {\n",
       "        vertical-align: top;\n",
       "    }\n",
       "\n",
       "    .dataframe thead th {\n",
       "        text-align: right;\n",
       "    }\n",
       "</style>\n",
       "<table border=\"1\" class=\"dataframe\">\n",
       "  <thead>\n",
       "    <tr style=\"text-align: right;\">\n",
       "      <th></th>\n",
       "      <th>index</th>\n",
       "      <th>title</th>\n",
       "      <th>year</th>\n",
       "      <th>brand</th>\n",
       "      <th>model</th>\n",
       "      <th>miles</th>\n",
       "      <th>star</th>\n",
       "      <th>review_no</th>\n",
       "      <th>price</th>\n",
       "    </tr>\n",
       "  </thead>\n",
       "  <tbody>\n",
       "    <tr>\n",
       "      <th>0</th>\n",
       "      <td>0</td>\n",
       "      <td>2018 ford f-150 platinum</td>\n",
       "      <td>2018</td>\n",
       "      <td>ford</td>\n",
       "      <td>f-150 platinum</td>\n",
       "      <td>58432</td>\n",
       "      <td>4.9</td>\n",
       "      <td>1438</td>\n",
       "      <td>51995</td>\n",
       "    </tr>\n",
       "    <tr>\n",
       "      <th>1</th>\n",
       "      <td>1</td>\n",
       "      <td>2018 ford f-150 platinum</td>\n",
       "      <td>2018</td>\n",
       "      <td>ford</td>\n",
       "      <td>f-150 platinum</td>\n",
       "      <td>45277</td>\n",
       "      <td>4.5</td>\n",
       "      <td>464</td>\n",
       "      <td>51125</td>\n",
       "    </tr>\n",
       "    <tr>\n",
       "      <th>2</th>\n",
       "      <td>2</td>\n",
       "      <td>2015 lexus gx 460 base</td>\n",
       "      <td>2015</td>\n",
       "      <td>lexus</td>\n",
       "      <td>gx 460 base</td>\n",
       "      <td>97028</td>\n",
       "      <td>2.8</td>\n",
       "      <td>28</td>\n",
       "      <td>31992</td>\n",
       "    </tr>\n",
       "    <tr>\n",
       "      <th>3</th>\n",
       "      <td>3</td>\n",
       "      <td>2019 bmw 740 i</td>\n",
       "      <td>2019</td>\n",
       "      <td>bmw</td>\n",
       "      <td>740 i</td>\n",
       "      <td>26535</td>\n",
       "      <td>4.5</td>\n",
       "      <td>642</td>\n",
       "      <td>56995</td>\n",
       "    </tr>\n",
       "    <tr>\n",
       "      <th>4</th>\n",
       "      <td>4</td>\n",
       "      <td>2018 bmw x2 sdrive28i</td>\n",
       "      <td>2018</td>\n",
       "      <td>bmw</td>\n",
       "      <td>x2 sdrive28i</td>\n",
       "      <td>14693</td>\n",
       "      <td>4.1</td>\n",
       "      <td>569</td>\n",
       "      <td>33500</td>\n",
       "    </tr>\n",
       "  </tbody>\n",
       "</table>\n",
       "</div>"
      ],
      "text/plain": [
       "   index                     title  year  brand           model  miles  star  \\\n",
       "0      0  2018 ford f-150 platinum  2018   ford  f-150 platinum  58432   4.9   \n",
       "1      1  2018 ford f-150 platinum  2018   ford  f-150 platinum  45277   4.5   \n",
       "2      2    2015 lexus gx 460 base  2015  lexus     gx 460 base  97028   2.8   \n",
       "3      3            2019 bmw 740 i  2019    bmw           740 i  26535   4.5   \n",
       "4      4     2018 bmw x2 sdrive28i  2018    bmw    x2 sdrive28i  14693   4.1   \n",
       "\n",
       "   review_no  price  \n",
       "0       1438  51995  \n",
       "1        464  51125  \n",
       "2         28  31992  \n",
       "3        642  56995  \n",
       "4        569  33500  "
      ]
     },
     "execution_count": 2,
     "metadata": {},
     "output_type": "execute_result"
    }
   ],
   "source": [
    "# Read car_info from MySQL at Amazon Web Service Cloud \n",
    "pw = pickle.load(open('./Flask/models/pw.plk','rb'))\n",
    "\n",
    "db = MySQLdb.connect(\n",
    "    \"ec2-34-219-13-119.us-west-2.compute.amazonaws.com\",\n",
    "    \"root\",\n",
    "    pw,\n",
    "    \"car\",\n",
    "    charset='utf8',\n",
    ")\n",
    "\n",
    "# SQL Query\n",
    "SQL_QUERY = \"\"\"\n",
    "    SELECT *\n",
    "    FROM car;\n",
    "\"\"\"\n",
    "\n",
    "# Bring car information from MySQL into dataframe\n",
    "train = pd.read_sql(SQL_QUERY, db)\n",
    "train.head()"
   ]
  },
  {
   "cell_type": "code",
   "execution_count": 3,
   "metadata": {},
   "outputs": [],
   "source": [
    "# Saving data to the database\n",
    "pickle.dump(train, open(\"./Flask/models/database.plk\",\"wb\"))"
   ]
  },
  {
   "cell_type": "code",
   "execution_count": 4,
   "metadata": {},
   "outputs": [],
   "source": [
    "# Top 50 car brands\n",
    "brand_list = []\n",
    "for brand in Counter(train.brand).most_common(50):\n",
    "    brand_list.append(brand[0])"
   ]
  },
  {
   "cell_type": "code",
   "execution_count": 5,
   "metadata": {},
   "outputs": [],
   "source": [
    "# Check the index of data not included in the top 50 car brands\n",
    "idx_list = []\n",
    "idx = 0\n",
    "for i in train[\"brand\"]:\n",
    "    if i not in brand_list:\n",
    "        idx_list.append(idx)\n",
    "    idx += 1"
   ]
  },
  {
   "cell_type": "code",
   "execution_count": 6,
   "metadata": {},
   "outputs": [],
   "source": [
    "# Only the top 50 car brands are filtered\n",
    "train = train.drop(idx_list)\n",
    "train.reset_index(drop=True, inplace=True)\n",
    "train = train.drop(\"index\", axis=1)"
   ]
  },
  {
   "cell_type": "markdown",
   "metadata": {},
   "source": [
    "### Feature engineering"
   ]
  },
  {
   "cell_type": "code",
   "execution_count": 7,
   "metadata": {},
   "outputs": [],
   "source": [
    "# Select models and brands as category variables\n",
    "categorical_features = ['brand', 'model']"
   ]
  },
  {
   "cell_type": "code",
   "execution_count": 8,
   "metadata": {},
   "outputs": [
    {
     "data": {
      "text/html": [
       "<div>\n",
       "<style scoped>\n",
       "    .dataframe tbody tr th:only-of-type {\n",
       "        vertical-align: middle;\n",
       "    }\n",
       "\n",
       "    .dataframe tbody tr th {\n",
       "        vertical-align: top;\n",
       "    }\n",
       "\n",
       "    .dataframe thead th {\n",
       "        text-align: right;\n",
       "    }\n",
       "</style>\n",
       "<table border=\"1\" class=\"dataframe\">\n",
       "  <thead>\n",
       "    <tr style=\"text-align: right;\">\n",
       "      <th></th>\n",
       "      <th>brand_audi</th>\n",
       "      <th>brand_bmw</th>\n",
       "      <th>brand_chevrolet</th>\n",
       "      <th>brand_ford</th>\n",
       "      <th>brand_land</th>\n",
       "      <th>brand_lexus</th>\n",
       "      <th>brand_mercedes-benz</th>\n",
       "      <th>brand_tesla</th>\n",
       "      <th>brand_toyota</th>\n",
       "      <th>model_330 i</th>\n",
       "      <th>...</th>\n",
       "      <th>model_gx 460 base</th>\n",
       "      <th>model_model 3 mid range</th>\n",
       "      <th>model_q7 3.0t premium plus</th>\n",
       "      <th>model_rover range rover 3.0l supercharged hse</th>\n",
       "      <th>model_rover range rover sport 3.0l supercharged hse</th>\n",
       "      <th>model_rover range rover sport hse</th>\n",
       "      <th>model_rover range rover velar p380 hse r-dynamic</th>\n",
       "      <th>model_x2 sdrive28i</th>\n",
       "      <th>model_x2 xdrive28i</th>\n",
       "      <th>model_x5 xdrive40i</th>\n",
       "    </tr>\n",
       "  </thead>\n",
       "  <tbody>\n",
       "    <tr>\n",
       "      <th>0</th>\n",
       "      <td>0</td>\n",
       "      <td>0</td>\n",
       "      <td>0</td>\n",
       "      <td>1</td>\n",
       "      <td>0</td>\n",
       "      <td>0</td>\n",
       "      <td>0</td>\n",
       "      <td>0</td>\n",
       "      <td>0</td>\n",
       "      <td>0</td>\n",
       "      <td>...</td>\n",
       "      <td>0</td>\n",
       "      <td>0</td>\n",
       "      <td>0</td>\n",
       "      <td>0</td>\n",
       "      <td>0</td>\n",
       "      <td>0</td>\n",
       "      <td>0</td>\n",
       "      <td>0</td>\n",
       "      <td>0</td>\n",
       "      <td>0</td>\n",
       "    </tr>\n",
       "    <tr>\n",
       "      <th>1</th>\n",
       "      <td>0</td>\n",
       "      <td>0</td>\n",
       "      <td>0</td>\n",
       "      <td>1</td>\n",
       "      <td>0</td>\n",
       "      <td>0</td>\n",
       "      <td>0</td>\n",
       "      <td>0</td>\n",
       "      <td>0</td>\n",
       "      <td>0</td>\n",
       "      <td>...</td>\n",
       "      <td>0</td>\n",
       "      <td>0</td>\n",
       "      <td>0</td>\n",
       "      <td>0</td>\n",
       "      <td>0</td>\n",
       "      <td>0</td>\n",
       "      <td>0</td>\n",
       "      <td>0</td>\n",
       "      <td>0</td>\n",
       "      <td>0</td>\n",
       "    </tr>\n",
       "    <tr>\n",
       "      <th>2</th>\n",
       "      <td>0</td>\n",
       "      <td>0</td>\n",
       "      <td>0</td>\n",
       "      <td>0</td>\n",
       "      <td>0</td>\n",
       "      <td>1</td>\n",
       "      <td>0</td>\n",
       "      <td>0</td>\n",
       "      <td>0</td>\n",
       "      <td>0</td>\n",
       "      <td>...</td>\n",
       "      <td>1</td>\n",
       "      <td>0</td>\n",
       "      <td>0</td>\n",
       "      <td>0</td>\n",
       "      <td>0</td>\n",
       "      <td>0</td>\n",
       "      <td>0</td>\n",
       "      <td>0</td>\n",
       "      <td>0</td>\n",
       "      <td>0</td>\n",
       "    </tr>\n",
       "    <tr>\n",
       "      <th>3</th>\n",
       "      <td>0</td>\n",
       "      <td>1</td>\n",
       "      <td>0</td>\n",
       "      <td>0</td>\n",
       "      <td>0</td>\n",
       "      <td>0</td>\n",
       "      <td>0</td>\n",
       "      <td>0</td>\n",
       "      <td>0</td>\n",
       "      <td>0</td>\n",
       "      <td>...</td>\n",
       "      <td>0</td>\n",
       "      <td>0</td>\n",
       "      <td>0</td>\n",
       "      <td>0</td>\n",
       "      <td>0</td>\n",
       "      <td>0</td>\n",
       "      <td>0</td>\n",
       "      <td>0</td>\n",
       "      <td>0</td>\n",
       "      <td>0</td>\n",
       "    </tr>\n",
       "    <tr>\n",
       "      <th>4</th>\n",
       "      <td>0</td>\n",
       "      <td>1</td>\n",
       "      <td>0</td>\n",
       "      <td>0</td>\n",
       "      <td>0</td>\n",
       "      <td>0</td>\n",
       "      <td>0</td>\n",
       "      <td>0</td>\n",
       "      <td>0</td>\n",
       "      <td>0</td>\n",
       "      <td>...</td>\n",
       "      <td>0</td>\n",
       "      <td>0</td>\n",
       "      <td>0</td>\n",
       "      <td>0</td>\n",
       "      <td>0</td>\n",
       "      <td>0</td>\n",
       "      <td>0</td>\n",
       "      <td>1</td>\n",
       "      <td>0</td>\n",
       "      <td>0</td>\n",
       "    </tr>\n",
       "  </tbody>\n",
       "</table>\n",
       "<p>5 rows × 26 columns</p>\n",
       "</div>"
      ],
      "text/plain": [
       "   brand_audi  brand_bmw  brand_chevrolet  brand_ford  brand_land  \\\n",
       "0           0          0                0           1           0   \n",
       "1           0          0                0           1           0   \n",
       "2           0          0                0           0           0   \n",
       "3           0          1                0           0           0   \n",
       "4           0          1                0           0           0   \n",
       "\n",
       "   brand_lexus  brand_mercedes-benz  brand_tesla  brand_toyota  model_330 i  \\\n",
       "0            0                    0            0             0            0   \n",
       "1            0                    0            0             0            0   \n",
       "2            1                    0            0             0            0   \n",
       "3            0                    0            0             0            0   \n",
       "4            0                    0            0             0            0   \n",
       "\n",
       "   ...  model_gx 460 base  model_model 3 mid range  \\\n",
       "0  ...                  0                        0   \n",
       "1  ...                  0                        0   \n",
       "2  ...                  1                        0   \n",
       "3  ...                  0                        0   \n",
       "4  ...                  0                        0   \n",
       "\n",
       "   model_q7 3.0t premium plus  model_rover range rover 3.0l supercharged hse  \\\n",
       "0                           0                                              0   \n",
       "1                           0                                              0   \n",
       "2                           0                                              0   \n",
       "3                           0                                              0   \n",
       "4                           0                                              0   \n",
       "\n",
       "   model_rover range rover sport 3.0l supercharged hse  \\\n",
       "0                                                  0     \n",
       "1                                                  0     \n",
       "2                                                  0     \n",
       "3                                                  0     \n",
       "4                                                  0     \n",
       "\n",
       "   model_rover range rover sport hse  \\\n",
       "0                                  0   \n",
       "1                                  0   \n",
       "2                                  0   \n",
       "3                                  0   \n",
       "4                                  0   \n",
       "\n",
       "   model_rover range rover velar p380 hse r-dynamic  model_x2 sdrive28i  \\\n",
       "0                                                 0                   0   \n",
       "1                                                 0                   0   \n",
       "2                                                 0                   0   \n",
       "3                                                 0                   0   \n",
       "4                                                 0                   1   \n",
       "\n",
       "   model_x2 xdrive28i  model_x5 xdrive40i  \n",
       "0                   0                   0  \n",
       "1                   0                   0  \n",
       "2                   0                   0  \n",
       "3                   0                   0  \n",
       "4                   0                   0  \n",
       "\n",
       "[5 rows x 26 columns]"
      ]
     },
     "execution_count": 8,
     "metadata": {},
     "output_type": "execute_result"
    }
   ],
   "source": [
    "# Dummy category variable\n",
    "dummy_cat = pd.get_dummies(train[categorical_features])\n",
    "dummy_cat.head()"
   ]
  },
  {
   "cell_type": "code",
   "execution_count": 9,
   "metadata": {},
   "outputs": [],
   "source": [
    "# Select year, miles, price by numeric variable\n",
    "# Select by numeric variable\n",
    "numerical_features = ['year', 'miles','price']"
   ]
  },
  {
   "cell_type": "code",
   "execution_count": 10,
   "metadata": {},
   "outputs": [
    {
     "data": {
      "text/html": [
       "<div>\n",
       "<style scoped>\n",
       "    .dataframe tbody tr th:only-of-type {\n",
       "        vertical-align: middle;\n",
       "    }\n",
       "\n",
       "    .dataframe tbody tr th {\n",
       "        vertical-align: top;\n",
       "    }\n",
       "\n",
       "    .dataframe thead th {\n",
       "        text-align: right;\n",
       "    }\n",
       "</style>\n",
       "<table border=\"1\" class=\"dataframe\">\n",
       "  <thead>\n",
       "    <tr style=\"text-align: right;\">\n",
       "      <th></th>\n",
       "      <th>year</th>\n",
       "      <th>miles</th>\n",
       "      <th>price</th>\n",
       "    </tr>\n",
       "  </thead>\n",
       "  <tbody>\n",
       "    <tr>\n",
       "      <th>0</th>\n",
       "      <td>7.610358</td>\n",
       "      <td>10.975636</td>\n",
       "      <td>10.858922</td>\n",
       "    </tr>\n",
       "    <tr>\n",
       "      <th>1</th>\n",
       "      <td>7.610358</td>\n",
       "      <td>10.720577</td>\n",
       "      <td>10.842048</td>\n",
       "    </tr>\n",
       "    <tr>\n",
       "      <th>2</th>\n",
       "      <td>7.608871</td>\n",
       "      <td>11.482765</td>\n",
       "      <td>10.373272</td>\n",
       "    </tr>\n",
       "    <tr>\n",
       "      <th>3</th>\n",
       "      <td>7.610853</td>\n",
       "      <td>10.186258</td>\n",
       "      <td>10.950736</td>\n",
       "    </tr>\n",
       "    <tr>\n",
       "      <th>4</th>\n",
       "      <td>7.610358</td>\n",
       "      <td>9.595195</td>\n",
       "      <td>10.419331</td>\n",
       "    </tr>\n",
       "    <tr>\n",
       "      <th>5</th>\n",
       "      <td>7.611348</td>\n",
       "      <td>9.815039</td>\n",
       "      <td>11.325402</td>\n",
       "    </tr>\n",
       "    <tr>\n",
       "      <th>6</th>\n",
       "      <td>7.609862</td>\n",
       "      <td>10.485563</td>\n",
       "      <td>11.049317</td>\n",
       "    </tr>\n",
       "    <tr>\n",
       "      <th>7</th>\n",
       "      <td>7.609862</td>\n",
       "      <td>11.263900</td>\n",
       "      <td>10.518430</td>\n",
       "    </tr>\n",
       "    <tr>\n",
       "      <th>8</th>\n",
       "      <td>7.609862</td>\n",
       "      <td>10.513552</td>\n",
       "      <td>11.125806</td>\n",
       "    </tr>\n",
       "    <tr>\n",
       "      <th>9</th>\n",
       "      <td>7.610853</td>\n",
       "      <td>10.364923</td>\n",
       "      <td>10.968078</td>\n",
       "    </tr>\n",
       "    <tr>\n",
       "      <th>10</th>\n",
       "      <td>7.610358</td>\n",
       "      <td>10.081801</td>\n",
       "      <td>10.517835</td>\n",
       "    </tr>\n",
       "    <tr>\n",
       "      <th>11</th>\n",
       "      <td>7.611348</td>\n",
       "      <td>9.359364</td>\n",
       "      <td>11.367911</td>\n",
       "    </tr>\n",
       "    <tr>\n",
       "      <th>12</th>\n",
       "      <td>7.611842</td>\n",
       "      <td>9.922162</td>\n",
       "      <td>10.668955</td>\n",
       "    </tr>\n",
       "    <tr>\n",
       "      <th>13</th>\n",
       "      <td>7.610853</td>\n",
       "      <td>10.915052</td>\n",
       "      <td>10.689578</td>\n",
       "    </tr>\n",
       "    <tr>\n",
       "      <th>14</th>\n",
       "      <td>7.610853</td>\n",
       "      <td>10.420613</td>\n",
       "      <td>10.714218</td>\n",
       "    </tr>\n",
       "    <tr>\n",
       "      <th>15</th>\n",
       "      <td>7.610853</td>\n",
       "      <td>9.616539</td>\n",
       "      <td>11.018564</td>\n",
       "    </tr>\n",
       "    <tr>\n",
       "      <th>16</th>\n",
       "      <td>7.608374</td>\n",
       "      <td>10.791667</td>\n",
       "      <td>10.754920</td>\n",
       "    </tr>\n",
       "    <tr>\n",
       "      <th>17</th>\n",
       "      <td>7.611842</td>\n",
       "      <td>9.803059</td>\n",
       "      <td>10.858922</td>\n",
       "    </tr>\n",
       "    <tr>\n",
       "      <th>18</th>\n",
       "      <td>7.610358</td>\n",
       "      <td>10.283977</td>\n",
       "      <td>10.404142</td>\n",
       "    </tr>\n",
       "    <tr>\n",
       "      <th>19</th>\n",
       "      <td>7.610358</td>\n",
       "      <td>10.488158</td>\n",
       "      <td>11.110969</td>\n",
       "    </tr>\n",
       "  </tbody>\n",
       "</table>\n",
       "</div>"
      ],
      "text/plain": [
       "        year      miles      price\n",
       "0   7.610358  10.975636  10.858922\n",
       "1   7.610358  10.720577  10.842048\n",
       "2   7.608871  11.482765  10.373272\n",
       "3   7.610853  10.186258  10.950736\n",
       "4   7.610358   9.595195  10.419331\n",
       "5   7.611348   9.815039  11.325402\n",
       "6   7.609862  10.485563  11.049317\n",
       "7   7.609862  11.263900  10.518430\n",
       "8   7.609862  10.513552  11.125806\n",
       "9   7.610853  10.364923  10.968078\n",
       "10  7.610358  10.081801  10.517835\n",
       "11  7.611348   9.359364  11.367911\n",
       "12  7.611842   9.922162  10.668955\n",
       "13  7.610853  10.915052  10.689578\n",
       "14  7.610853  10.420613  10.714218\n",
       "15  7.610853   9.616539  11.018564\n",
       "16  7.608374  10.791667  10.754920\n",
       "17  7.611842   9.803059  10.858922\n",
       "18  7.610358  10.283977  10.404142\n",
       "19  7.610358  10.488158  11.110969"
      ]
     },
     "execution_count": 10,
     "metadata": {},
     "output_type": "execute_result"
    }
   ],
   "source": [
    "np.log1p(train[numerical_features])"
   ]
  },
  {
   "cell_type": "code",
   "execution_count": 11,
   "metadata": {},
   "outputs": [
    {
     "data": {
      "text/html": [
       "<div>\n",
       "<style scoped>\n",
       "    .dataframe tbody tr th:only-of-type {\n",
       "        vertical-align: middle;\n",
       "    }\n",
       "\n",
       "    .dataframe tbody tr th {\n",
       "        vertical-align: top;\n",
       "    }\n",
       "\n",
       "    .dataframe thead th {\n",
       "        text-align: right;\n",
       "    }\n",
       "</style>\n",
       "<table border=\"1\" class=\"dataframe\">\n",
       "  <thead>\n",
       "    <tr style=\"text-align: right;\">\n",
       "      <th></th>\n",
       "      <th>year</th>\n",
       "      <th>miles</th>\n",
       "      <th>price</th>\n",
       "    </tr>\n",
       "  </thead>\n",
       "  <tbody>\n",
       "    <tr>\n",
       "      <th>0</th>\n",
       "      <td>7.610358</td>\n",
       "      <td>10.975636</td>\n",
       "      <td>10.858922</td>\n",
       "    </tr>\n",
       "    <tr>\n",
       "      <th>1</th>\n",
       "      <td>7.610358</td>\n",
       "      <td>10.720577</td>\n",
       "      <td>10.842048</td>\n",
       "    </tr>\n",
       "    <tr>\n",
       "      <th>2</th>\n",
       "      <td>7.608871</td>\n",
       "      <td>11.482765</td>\n",
       "      <td>10.373272</td>\n",
       "    </tr>\n",
       "    <tr>\n",
       "      <th>3</th>\n",
       "      <td>7.610853</td>\n",
       "      <td>10.186258</td>\n",
       "      <td>10.950736</td>\n",
       "    </tr>\n",
       "    <tr>\n",
       "      <th>4</th>\n",
       "      <td>7.610358</td>\n",
       "      <td>9.595195</td>\n",
       "      <td>10.419331</td>\n",
       "    </tr>\n",
       "  </tbody>\n",
       "</table>\n",
       "</div>"
      ],
      "text/plain": [
       "       year      miles      price\n",
       "0  7.610358  10.975636  10.858922\n",
       "1  7.610358  10.720577  10.842048\n",
       "2  7.608871  11.482765  10.373272\n",
       "3  7.610853  10.186258  10.950736\n",
       "4  7.610358   9.595195  10.419331"
      ]
     },
     "execution_count": 11,
     "metadata": {},
     "output_type": "execute_result"
    }
   ],
   "source": [
    "# Normalized numeric Variables\n",
    "normalize_num = np.log1p(train[numerical_features])\n",
    "normalize_num.head()"
   ]
  },
  {
   "cell_type": "code",
   "execution_count": 12,
   "metadata": {},
   "outputs": [],
   "source": [
    "# Join numeric variable with categoric variable\n",
    "X_train_0 = normalize_num.join(dummy_cat)\n",
    "\n",
    "# Seperate price as y value\n",
    "y_train = X_train_0[\"price\"]\n",
    "X_train = X_train_0.drop(\"price\", axis=1)"
   ]
  },
  {
   "cell_type": "markdown",
   "metadata": {},
   "source": [
    "### Model : XGBoost Model\n",
    "XGBoost is short for “Extreme Gradient Boosting”, where the term “Gradient Boosting” is proposed in the paper Greedy Function Approximation: A Gradient Boosting Machine, by Friedman. XGBoost is based on this original model.\n",
    "\n",
    "XGBoost is used for supervised learning problems, where we use the training data (with multiple features) x to predict a target variable y. Before we dive into trees, let us start by reviewing the basic elements in supervised learning."
   ]
  },
  {
   "cell_type": "code",
   "execution_count": 13,
   "metadata": {},
   "outputs": [],
   "source": [
    "from xgboost import XGBRegressor\n",
    "from sklearn.model_selection import train_test_split\n",
    "from sklearn.model_selection import cross_val_score\n",
    "from sklearn.model_selection import KFold\n",
    "\n",
    "# K-ford : 10\n",
    "k_fold = KFold(n_splits=10, shuffle=True, random_state=2018)\n",
    "X_train1, X_test1, y_train1, y_test1 = train_test_split(X_train, y_train)"
   ]
  },
  {
   "cell_type": "code",
   "execution_count": 14,
   "metadata": {},
   "outputs": [],
   "source": [
    "# Create XGBoost Regressor model\n",
    "ml = XGBRegressor(n_estimators=1000, learning_rate=0.05, verbose=False)"
   ]
  },
  {
   "cell_type": "code",
   "execution_count": 15,
   "metadata": {},
   "outputs": [
    {
     "name": "stdout",
     "output_type": "stream",
     "text": [
      "[05:51:38] WARNING: ../src/learner.cc:576: \n",
      "Parameters: { \"verbose\" } might not be used.\n",
      "\n",
      "  This could be a false alarm, with some parameters getting used by language bindings but\n",
      "  then being mistakenly passed down to XGBoost core, or some parameter actually being used\n",
      "  but getting flagged wrongly here. Please open an issue if you find any such cases.\n",
      "\n",
      "\n",
      "[05:51:40] WARNING: ../src/learner.cc:576: \n",
      "Parameters: { \"verbose\" } might not be used.\n",
      "\n",
      "  This could be a false alarm, with some parameters getting used by language bindings but\n",
      "  then being mistakenly passed down to XGBoost core, or some parameter actually being used\n",
      "  but getting flagged wrongly here. Please open an issue if you find any such cases.\n",
      "\n",
      "\n",
      "[05:51:42] WARNING: ../src/learner.cc:576: \n",
      "Parameters: { \"verbose\" } might not be used.\n",
      "\n",
      "  This could be a false alarm, with some parameters getting used by language bindings but\n",
      "  then being mistakenly passed down to XGBoost core, or some parameter actually being used\n",
      "  but getting flagged wrongly here. Please open an issue if you find any such cases.\n",
      "\n",
      "\n",
      "[05:51:44] WARNING: ../src/learner.cc:576: \n",
      "Parameters: { \"verbose\" } might not be used.\n",
      "\n",
      "  This could be a false alarm, with some parameters getting used by language bindings but\n",
      "  then being mistakenly passed down to XGBoost core, or some parameter actually being used\n",
      "  but getting flagged wrongly here. Please open an issue if you find any such cases.\n",
      "\n",
      "\n",
      "[05:51:46] WARNING: ../src/learner.cc:576: \n",
      "Parameters: { \"verbose\" } might not be used.\n",
      "\n",
      "  This could be a false alarm, with some parameters getting used by language bindings but\n",
      "  then being mistakenly passed down to XGBoost core, or some parameter actually being used\n",
      "  but getting flagged wrongly here. Please open an issue if you find any such cases.\n",
      "\n",
      "\n",
      "[05:51:48] WARNING: ../src/learner.cc:576: \n",
      "Parameters: { \"verbose\" } might not be used.\n",
      "\n",
      "  This could be a false alarm, with some parameters getting used by language bindings but\n",
      "  then being mistakenly passed down to XGBoost core, or some parameter actually being used\n",
      "  but getting flagged wrongly here. Please open an issue if you find any such cases.\n",
      "\n",
      "\n",
      "[05:51:49] WARNING: ../src/learner.cc:576: \n",
      "Parameters: { \"verbose\" } might not be used.\n",
      "\n",
      "  This could be a false alarm, with some parameters getting used by language bindings but\n",
      "  then being mistakenly passed down to XGBoost core, or some parameter actually being used\n",
      "  but getting flagged wrongly here. Please open an issue if you find any such cases.\n",
      "\n",
      "\n",
      "[05:51:51] WARNING: ../src/learner.cc:576: \n",
      "Parameters: { \"verbose\" } might not be used.\n",
      "\n",
      "  This could be a false alarm, with some parameters getting used by language bindings but\n",
      "  then being mistakenly passed down to XGBoost core, or some parameter actually being used\n",
      "  but getting flagged wrongly here. Please open an issue if you find any such cases.\n",
      "\n",
      "\n",
      "[05:51:53] WARNING: ../src/learner.cc:576: \n",
      "Parameters: { \"verbose\" } might not be used.\n",
      "\n",
      "  This could be a false alarm, with some parameters getting used by language bindings but\n",
      "  then being mistakenly passed down to XGBoost core, or some parameter actually being used\n",
      "  but getting flagged wrongly here. Please open an issue if you find any such cases.\n",
      "\n",
      "\n",
      "[05:51:55] WARNING: ../src/learner.cc:576: \n",
      "Parameters: { \"verbose\" } might not be used.\n",
      "\n",
      "  This could be a false alarm, with some parameters getting used by language bindings but\n",
      "  then being mistakenly passed down to XGBoost core, or some parameter actually being used\n",
      "  but getting flagged wrongly here. Please open an issue if you find any such cases.\n",
      "\n",
      "\n",
      "CPU times: user 18.9 s, sys: 68 ms, total: 19 s\n",
      "Wall time: 19.4 s\n",
      "Score = -9.55860\n"
     ]
    }
   ],
   "source": [
    "# Check the corss validation score\n",
    "%time score = cross_val_score(ml, X_train, y_train, cv=k_fold, n_jobs=-1, scoring=\"r2\").mean()\n",
    "print(\"Score = {0:.5f}\".format(score))"
   ]
  },
  {
   "cell_type": "code",
   "execution_count": 16,
   "metadata": {},
   "outputs": [
    {
     "name": "stdout",
     "output_type": "stream",
     "text": [
      "[05:52:07] WARNING: ../src/learner.cc:576: \n",
      "Parameters: { \"verbose\" } might not be used.\n",
      "\n",
      "  This could be a false alarm, with some parameters getting used by language bindings but\n",
      "  then being mistakenly passed down to XGBoost core, or some parameter actually being used\n",
      "  but getting flagged wrongly here. Please open an issue if you find any such cases.\n",
      "\n",
      "\n"
     ]
    },
    {
     "data": {
      "image/png": "[encoded data removed]",
      "text/plain": [
       "<Figure size 720x360 with 1 Axes>"
      ]
     },
     "metadata": {
      "needs_background": "light"
     },
     "output_type": "display_data"
    }
   ],
   "source": [
    "# Train model\n",
    "ml = ml.fit(X_train1, y_train1)\n",
    "\n",
    "# Predict test data set\n",
    "y_pred = ml.predict(X_test1)\n",
    "\n",
    "# Drawing regression graph\n",
    "plt.figure(figsize=(10, 5))\n",
    "plt.scatter(y_test1, y_pred, s=20)\n",
    "plt.title('Predicted vs. Actual')\n",
    "plt.xlabel('Actual Sale Price')\n",
    "plt.ylabel('Predicted Sale Price')\n",
    "\n",
    "plt.plot([min(y_test1), max(y_test1)], [min(y_test1), max(y_test1)])\n",
    "plt.tight_layout()"
   ]
  },
  {
   "cell_type": "code",
   "execution_count": 17,
   "metadata": {},
   "outputs": [],
   "source": [
    "# Save the model to the pickle file\n",
    "pickle.dump(ml, open(\"./Flask/models/model.plk\",\"wb\"))"
   ]
  },
  {
   "cell_type": "code",
   "execution_count": 18,
   "metadata": {},
   "outputs": [],
   "source": [
    "# Set up a dataset using \"brand\", \"model\", \"year\", \"miles\", \"price\"\n",
    "actual_car_info = train[[\"brand\", \"model\",\"year\",\"miles\",\"price\"]]\n",
    "\n",
    "# Save the dataset to the pickle file\n",
    "pickle.dump(actual_car_info, open(\"./Flask/models/actual_car_info.plk\",\"wb\"))"
   ]
  },
  {
   "cell_type": "markdown",
   "metadata": {},
   "source": [
    "### Enter Used Car information"
   ]
  },
  {
   "cell_type": "code",
   "execution_count": 19,
   "metadata": {},
   "outputs": [
    {
     "name": "stdout",
     "output_type": "stream",
     "text": [
      "brand: kia\n",
      "model: forte\n",
      "year: 2020\n",
      "miles: 70000\n"
     ]
    }
   ],
   "source": [
    "# Enter the information of the vehicle you want to know about the estimated price of used car\n",
    "brand = str(input(\"brand: \"))\n",
    "model = str(input(\"model: \"))\n",
    "year = int(input(\"year: \"))\n",
    "miles = int(input(\"miles: \"))"
   ]
  },
  {
   "cell_type": "code",
   "execution_count": 20,
   "metadata": {},
   "outputs": [],
   "source": [
    "# Save the variable column used to train the model as a data frame\n",
    "target = pd.DataFrame(columns = [X_train1.columns])"
   ]
  },
  {
   "cell_type": "code",
   "execution_count": 21,
   "metadata": {},
   "outputs": [],
   "source": [
    "# Save the variable column to the pickle file\n",
    "pickle.dump(X_train1.columns, open(\"./Flask/models/column.plk\",\"wb\"))"
   ]
  },
  {
   "cell_type": "code",
   "execution_count": 22,
   "metadata": {},
   "outputs": [
    {
     "data": {
      "text/plain": [
       "25"
      ]
     },
     "execution_count": 22,
     "metadata": {},
     "output_type": "execute_result"
    }
   ],
   "source": [
    "# Check the index location of the selected used car brand in the variable column data frame\n",
    "brand_index = 0\n",
    "for col in X_train1.columns:\n",
    "    if col == 'brand'+\"_\"+brand:\n",
    "        break;\n",
    "    brand_index += 1\n",
    "brand_index"
   ]
  },
  {
   "cell_type": "code",
   "execution_count": 23,
   "metadata": {},
   "outputs": [
    {
     "data": {
      "text/plain": [
       "224"
      ]
     },
     "execution_count": 23,
     "metadata": {},
     "output_type": "execute_result"
    }
   ],
   "source": [
    "# Check the index location of the selected used car model in the variable column data frame\n",
    "model_index = 0\n",
    "for col in X_train1.columns:\n",
    "    if col == 'model'+\"_\"+model:\n",
    "        break;\n",
    "    model_index += 1\n",
    "model_index"
   ]
  },
  {
   "cell_type": "code",
   "execution_count": 24,
   "metadata": {},
   "outputs": [],
   "source": [
    "# Array of zeros\n",
    "target_list = np.zeros_like(X_train1.loc[0])"
   ]
  },
  {
   "cell_type": "code",
   "execution_count": 25,
   "metadata": {},
   "outputs": [],
   "source": [
    "# Save the target_list to pickle file\n",
    "pickle.dump(target_list, open(\"./Flask/models/target_list.plk\",\"wb\"))"
   ]
  },
  {
   "cell_type": "code",
   "execution_count": 26,
   "metadata": {},
   "outputs": [],
   "source": [
    "# Put the number 1 in the selected brand and model locations in the data frame\n",
    "target_list[brand_index] = 1\n",
    "target_list[model_index] = 1\n",
    "\n",
    "# Put the year and miles in the data frame\n",
    "target_list[0] = year\n",
    "target_list[1] = miles"
   ]
  },
  {
   "cell_type": "code",
   "execution_count": 27,
   "metadata": {
    "scrolled": true
   },
   "outputs": [],
   "source": [
    "# Insert data into target data frame \n",
    "for i in range(1):\n",
    "    target.loc[i] = target_list"
   ]
  },
  {
   "cell_type": "code",
   "execution_count": 28,
   "metadata": {
    "scrolled": true
   },
   "outputs": [],
   "source": [
    "# Nomalizing numerical features\n",
    "numerical_features = ['year', 'miles']\n",
    "normalize_target  = np.log1p(target[numerical_features])"
   ]
  },
  {
   "cell_type": "code",
   "execution_count": 29,
   "metadata": {},
   "outputs": [
    {
     "name": "stderr",
     "output_type": "stream",
     "text": [
      "/home/ubuntu/.local/lib/python3.8/site-packages/pandas/core/generic.py:3889: PerformanceWarning: dropping on a non-lexsorted multi-index without a level parameter may impact performance.\n",
      "  obj = obj._drop_axis(labels, axis, level=level, errors=errors)\n"
     ]
    }
   ],
   "source": [
    "target.drop(['year', 'miles'], axis=1, inplace=True)"
   ]
  },
  {
   "cell_type": "code",
   "execution_count": 30,
   "metadata": {},
   "outputs": [],
   "source": [
    "target_goal = normalize_target.join(target)"
   ]
  },
  {
   "cell_type": "code",
   "execution_count": 31,
   "metadata": {
    "scrolled": true
   },
   "outputs": [
    {
     "data": {
      "text/html": [
       "<div>\n",
       "<style scoped>\n",
       "    .dataframe tbody tr th:only-of-type {\n",
       "        vertical-align: middle;\n",
       "    }\n",
       "\n",
       "    .dataframe tbody tr th {\n",
       "        vertical-align: top;\n",
       "    }\n",
       "\n",
       "    .dataframe thead tr th {\n",
       "        text-align: left;\n",
       "    }\n",
       "</style>\n",
       "<table border=\"1\" class=\"dataframe\">\n",
       "  <thead>\n",
       "    <tr>\n",
       "      <th></th>\n",
       "      <th>year</th>\n",
       "      <th>miles</th>\n",
       "      <th>brand_acura</th>\n",
       "      <th>brand_alfa</th>\n",
       "      <th>brand_am</th>\n",
       "      <th>brand_audi</th>\n",
       "      <th>brand_bentley</th>\n",
       "      <th>brand_bmw</th>\n",
       "      <th>brand_buick</th>\n",
       "      <th>brand_cadillac</th>\n",
       "      <th>...</th>\n",
       "      <th>model_xt4</th>\n",
       "      <th>model_xt5</th>\n",
       "      <th>model_xt6</th>\n",
       "      <th>model_xterra</th>\n",
       "      <th>model_xts</th>\n",
       "      <th>model_xv</th>\n",
       "      <th>model_yaris</th>\n",
       "      <th>model_yukon</th>\n",
       "      <th>model_z3</th>\n",
       "      <th>model_z4</th>\n",
       "    </tr>\n",
       "  </thead>\n",
       "  <tbody>\n",
       "    <tr>\n",
       "      <th>0</th>\n",
       "      <td>7.611348</td>\n",
       "      <td>11.156265</td>\n",
       "      <td>0.0</td>\n",
       "      <td>0.0</td>\n",
       "      <td>0.0</td>\n",
       "      <td>0.0</td>\n",
       "      <td>0.0</td>\n",
       "      <td>0.0</td>\n",
       "      <td>0.0</td>\n",
       "      <td>0.0</td>\n",
       "      <td>...</td>\n",
       "      <td>0.0</td>\n",
       "      <td>0.0</td>\n",
       "      <td>0.0</td>\n",
       "      <td>0.0</td>\n",
       "      <td>0.0</td>\n",
       "      <td>0.0</td>\n",
       "      <td>0.0</td>\n",
       "      <td>0.0</td>\n",
       "      <td>0.0</td>\n",
       "      <td>0.0</td>\n",
       "    </tr>\n",
       "  </tbody>\n",
       "</table>\n",
       "<p>1 rows × 518 columns</p>\n",
       "</div>"
      ],
      "text/plain": [
       "       year      miles brand_acura brand_alfa brand_am brand_audi  \\\n",
       "0  7.611348  11.156265         0.0        0.0      0.0        0.0   \n",
       "\n",
       "  brand_bentley brand_bmw brand_buick brand_cadillac  ... model_xt4 model_xt5  \\\n",
       "0           0.0       0.0         0.0            0.0  ...       0.0       0.0   \n",
       "\n",
       "  model_xt6 model_xterra model_xts model_xv model_yaris model_yukon model_z3  \\\n",
       "0       0.0          0.0       0.0      0.0         0.0         0.0      0.0   \n",
       "\n",
       "  model_z4  \n",
       "0      0.0  \n",
       "\n",
       "[1 rows x 518 columns]"
      ]
     },
     "execution_count": 31,
     "metadata": {},
     "output_type": "execute_result"
    }
   ],
   "source": [
    "target_goal"
   ]
  },
  {
   "cell_type": "markdown",
   "metadata": {},
   "source": [
    "### Predict Used_Car Values"
   ]
  },
  {
   "cell_type": "code",
   "execution_count": 32,
   "metadata": {},
   "outputs": [],
   "source": [
    "# Predicted logged price\n",
    "price_log = ml.predict(target_goal)"
   ]
  },
  {
   "cell_type": "code",
   "execution_count": 33,
   "metadata": {},
   "outputs": [
    {
     "data": {
      "text/plain": [
       "array([9.338268], dtype=float32)"
      ]
     },
     "execution_count": 33,
     "metadata": {},
     "output_type": "execute_result"
    }
   ],
   "source": [
    "price_log"
   ]
  },
  {
   "cell_type": "code",
   "execution_count": 34,
   "metadata": {},
   "outputs": [
    {
     "name": "stdout",
     "output_type": "stream",
     "text": [
      "Price: 11364\n"
     ]
    }
   ],
   "source": [
    "# Revert the logged price back to its original price\n",
    "price = np.exp(price_log)\n",
    "print(\"Price:\", int(price))"
   ]
  },
  {
   "cell_type": "markdown",
   "metadata": {},
   "source": [
    "### Compare same model with different years"
   ]
  },
  {
   "cell_type": "code",
   "execution_count": 35,
   "metadata": {},
   "outputs": [
    {
     "data": {
      "text/html": [
       "<div>\n",
       "<style scoped>\n",
       "    .dataframe tbody tr th:only-of-type {\n",
       "        vertical-align: middle;\n",
       "    }\n",
       "\n",
       "    .dataframe tbody tr th {\n",
       "        vertical-align: top;\n",
       "    }\n",
       "\n",
       "    .dataframe thead th {\n",
       "        text-align: right;\n",
       "    }\n",
       "</style>\n",
       "<table border=\"1\" class=\"dataframe\">\n",
       "  <thead>\n",
       "    <tr style=\"text-align: right;\">\n",
       "      <th></th>\n",
       "      <th>year</th>\n",
       "      <th>price</th>\n",
       "    </tr>\n",
       "  </thead>\n",
       "  <tbody>\n",
       "    <tr>\n",
       "      <th>0</th>\n",
       "      <td>2010</td>\n",
       "      <td>2000</td>\n",
       "    </tr>\n",
       "    <tr>\n",
       "      <th>1</th>\n",
       "      <td>2014</td>\n",
       "      <td>9998</td>\n",
       "    </tr>\n",
       "    <tr>\n",
       "      <th>2</th>\n",
       "      <td>2015</td>\n",
       "      <td>6472</td>\n",
       "    </tr>\n",
       "    <tr>\n",
       "      <th>3</th>\n",
       "      <td>2016</td>\n",
       "      <td>14590</td>\n",
       "    </tr>\n",
       "    <tr>\n",
       "      <th>4</th>\n",
       "      <td>2017</td>\n",
       "      <td>10999</td>\n",
       "    </tr>\n",
       "    <tr>\n",
       "      <th>5</th>\n",
       "      <td>2019</td>\n",
       "      <td>12621</td>\n",
       "    </tr>\n",
       "    <tr>\n",
       "      <th>6</th>\n",
       "      <td>2020</td>\n",
       "      <td>14273</td>\n",
       "    </tr>\n",
       "  </tbody>\n",
       "</table>\n",
       "</div>"
      ],
      "text/plain": [
       "   year  price\n",
       "0  2010   2000\n",
       "1  2014   9998\n",
       "2  2015   6472\n",
       "3  2016  14590\n",
       "4  2017  10999\n",
       "5  2019  12621\n",
       "6  2020  14273"
      ]
     },
     "execution_count": 35,
     "metadata": {},
     "output_type": "execute_result"
    }
   ],
   "source": [
    "# Find the average of the same model for each year\n",
    "same_model = actual_car_info[actual_car_info[\"model\"]==model] \n",
    "year_price = same_model[[\"year\", \"price\"]]\n",
    "year_price_list = year_price.groupby(\"year\").agg({'price':np.mean}).astype('int')\n",
    "year_price_list = year_price_list.reset_index()\n",
    "year_price_list"
   ]
  },
  {
   "cell_type": "code",
   "execution_count": 36,
   "metadata": {},
   "outputs": [],
   "source": [
    "# Convert year from number type to character type\n",
    "year_price_list[\"year\"] = year_price_list[\"year\"].apply(lambda x: str(x) )"
   ]
  },
  {
   "cell_type": "code",
   "execution_count": 37,
   "metadata": {},
   "outputs": [],
   "source": [
    "# Convert price from number type to character type\n",
    "year_price_list[\"price\"] = year_price_list[\"price\"].apply(lambda x: str(x) )"
   ]
  },
  {
   "cell_type": "code",
   "execution_count": 38,
   "metadata": {},
   "outputs": [
    {
     "data": {
      "text/plain": [
       "['2000', '9998', '6472', '14590', '10999', '12621', '14273']"
      ]
     },
     "execution_count": 38,
     "metadata": {},
     "output_type": "execute_result"
    }
   ],
   "source": [
    "list(year_price_list[\"price\"])"
   ]
  },
  {
   "cell_type": "code",
   "execution_count": null,
   "metadata": {},
   "outputs": [],
   "source": []
  }
 ],
 "metadata": {
  "kernelspec": {
   "display_name": "Python 3 (ipykernel)",
   "language": "python",
   "name": "python3"
  },
  "language_info": {
   "codemirror_mode": {
    "name": "ipython",
    "version": 3
   },
   "file_extension": ".py",
   "mimetype": "text/x-python",
   "name": "python",
   "nbconvert_exporter": "python",
   "pygments_lexer": "ipython3",
   "version": "3.8.10"
  }
 },
 "nbformat": 4,
 "nbformat_minor": 2
}
